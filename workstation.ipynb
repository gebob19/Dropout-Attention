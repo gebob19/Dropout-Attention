{
 "cells": [
  {
   "cell_type": "code",
   "execution_count": 5,
   "metadata": {},
   "outputs": [],
   "source": [
    "# for auto-reloading external modules\n",
    "# see http://stackoverflow.com/questions/1907993/autoreload-of-modules-in-ipython\n",
    "%load_ext autoreload\n",
    "%autoreload 2"
   ]
  },
  {
   "cell_type": "code",
   "execution_count": 4,
   "metadata": {},
   "outputs": [],
   "source": [
    "import pprint\n",
    "import math\n",
    "import random\n",
    "\n",
    "import pandas as pd\n",
    "import numpy as np\n",
    "import torch.nn as nn\n",
    "import matplotlib.pyplot as plt\n",
    "import matplotlib.ticker as ticker\n",
    "\n",
    "from pathlib import Path\n",
    "\n",
    "from language_structure import *\n",
    "from train import batch_iter, load\n",
    "from model import *\n",
    "from utils import *\n",
    "\n",
    "base = Path('../data')\n",
    "device = torch.device(\"cuda\" if torch.cuda.is_available() else \"cpu\")"
   ]
  },
  {
   "cell_type": "code",
   "execution_count": 5,
   "metadata": {},
   "outputs": [
    {
     "data": {
      "text/plain": [
       "[PosixPath('../data/.DS_Store'),\n",
       " PosixPath('../data/aclImdb'),\n",
       " PosixPath('../data/QQP'),\n",
       " PosixPath('../data/cola_public'),\n",
       " PosixPath('../data/QNLI'),\n",
       " PosixPath('../data/RTE')]"
      ]
     },
     "execution_count": 5,
     "metadata": {},
     "output_type": "execute_result"
    }
   ],
   "source": [
    "# datasets\n",
    "list(base.iterdir())"
   ]
  },
  {
   "cell_type": "markdown",
   "metadata": {},
   "source": [
    "# IMDB"
   ]
  },
  {
   "cell_type": "code",
   "execution_count": 32,
   "metadata": {},
   "outputs": [
    {
     "data": {
      "text/html": [
       "<div>\n",
       "<style scoped>\n",
       "    .dataframe tbody tr th:only-of-type {\n",
       "        vertical-align: middle;\n",
       "    }\n",
       "\n",
       "    .dataframe tbody tr th {\n",
       "        vertical-align: top;\n",
       "    }\n",
       "\n",
       "    .dataframe thead th {\n",
       "        text-align: right;\n",
       "    }\n",
       "</style>\n",
       "<table border=\"1\" class=\"dataframe\">\n",
       "  <thead>\n",
       "    <tr style=\"text-align: right;\">\n",
       "      <th></th>\n",
       "      <th>path</th>\n",
       "      <th>target</th>\n",
       "      <th>review_rating</th>\n",
       "      <th>file_length</th>\n",
       "    </tr>\n",
       "  </thead>\n",
       "  <tbody>\n",
       "    <tr>\n",
       "      <th>0</th>\n",
       "      <td>train/neg/1821_4.txt</td>\n",
       "      <td>0</td>\n",
       "      <td>4</td>\n",
       "      <td>41</td>\n",
       "    </tr>\n",
       "    <tr>\n",
       "      <th>1</th>\n",
       "      <td>train/neg/10402_1.txt</td>\n",
       "      <td>0</td>\n",
       "      <td>1</td>\n",
       "      <td>188</td>\n",
       "    </tr>\n",
       "    <tr>\n",
       "      <th>2</th>\n",
       "      <td>train/neg/1062_4.txt</td>\n",
       "      <td>0</td>\n",
       "      <td>4</td>\n",
       "      <td>122</td>\n",
       "    </tr>\n",
       "    <tr>\n",
       "      <th>3</th>\n",
       "      <td>train/neg/9056_1.txt</td>\n",
       "      <td>0</td>\n",
       "      <td>1</td>\n",
       "      <td>354</td>\n",
       "    </tr>\n",
       "    <tr>\n",
       "      <th>4</th>\n",
       "      <td>train/neg/5392_3.txt</td>\n",
       "      <td>0</td>\n",
       "      <td>3</td>\n",
       "      <td>794</td>\n",
       "    </tr>\n",
       "  </tbody>\n",
       "</table>\n",
       "</div>"
      ],
      "text/plain": [
       "                    path  target  review_rating  file_length\n",
       "0   train/neg/1821_4.txt       0              4           41\n",
       "1  train/neg/10402_1.txt       0              1          188\n",
       "2   train/neg/1062_4.txt       0              4          122\n",
       "3   train/neg/9056_1.txt       0              1          354\n",
       "4   train/neg/5392_3.txt       0              3          794"
      ]
     },
     "execution_count": 32,
     "metadata": {},
     "output_type": "execute_result"
    }
   ],
   "source": [
    "tmp = pd.read_csv('../data/aclImdb/train.csv')\n",
    "tmp.head()"
   ]
  },
  {
   "cell_type": "code",
   "execution_count": 6,
   "metadata": {},
   "outputs": [],
   "source": [
    "class BatchLoader:\n",
    "    def __init__(self, base, tokenizer, max_len, device, size):\n",
    "        self.base = base\n",
    "        self.size = size\n",
    "        self.traindf = pd.read_csv(base/'train.csv')\n",
    "        self.testdf = pd.read_csv(base/'test.csv')\n",
    "        self.max_len = max_len\n",
    "        self.device = device\n",
    "        self.tokenizer = tokenizer\n",
    "        \n",
    "        if self.size:\n",
    "            self.traindf = self.traindf.sample(frac=1.)\n",
    "            self.testdf = self.testdf.sample(frac=1.)\n",
    "            self.traindf = self.traindf[:self.size]\n",
    "            self.testdf = self.testdf[:self.size]\n",
    "        print(\"Length of (Train, Test) : ({}, {})\".format(len(self.traindf), len(self.testdf)))\n",
    "    \n",
    "    def prepare(self, df):\n",
    "        raise NotImplementedError(\"BatchLoader Prepare Not Implemented\")\n",
    "    \n",
    "    def tokenize(self, sents):\n",
    "        raise NotImplementedError(\"BatchLoader Tokenize Not Implemented\")\n",
    "        \n",
    "    def batch_iter(self, batch_size, train=True, shuffle=False, process_full_df=False, show_progress=False):\n",
    "        data = self.traindf if train else self.testdf\n",
    "        tmpdf = data.copy()\n",
    "        \n",
    "        if shuffle:\n",
    "            tmpdf = tmpdf.sample(frac=1.)\n",
    "            \n",
    "        count = 0\n",
    "        # file length lower and upper bound to batch together\n",
    "        n = 10\n",
    "        \n",
    "        while len(tmpdf) > 0:\n",
    "            count += 1\n",
    "            \n",
    "            # grab first row\n",
    "            length = tmpdf['file_length'].values[0]\n",
    "            lb, ub = length - n, length + n\n",
    "\n",
    "            # find similar lengthed files\n",
    "            file_lengths = tmpdf.file_length.values\n",
    "            fl_idxs = tmpdf.file_length.index\n",
    "            idxs = [i for i, fl in zip(fl_idxs, file_lengths) if (fl >= lb and fl <= ub)]\n",
    "\n",
    "            # break early if we dont want to process the full dataframe \n",
    "            if not process_full_df:\n",
    "                if len(idxs) < batch_size / 2 and count > 6: break\n",
    "            elif show_progress and count % 10 == 0:\n",
    "                print('Examples Left: {}'.format(len(tmpdf)))\n",
    "\n",
    "            # shuffle & get batch\n",
    "            random.shuffle(idxs)\n",
    "            idxs = idxs[:batch_size] if len(idxs) > batch_size else idxs\n",
    "            batchdf = tmpdf.loc[idxs]\n",
    "\n",
    "            # remove selected batch rows from main df\n",
    "            tmpdf = tmpdf[~tmpdf.index.isin(batchdf.index)]\n",
    "\n",
    "            # open, clean, index txt files \n",
    "            sents, targets = self.prepare(batchdf)\n",
    "            \n",
    "            # tokenize and tensorize\n",
    "            x, lengths = self.tokenize(sents)\n",
    "            y = torch.nn.functional.one_hot(torch.tensor(targets, device=self.device))\n",
    "        \n",
    "            yield x, y.squeeze(), lengths\n",
    "        "
   ]
  },
  {
   "cell_type": "code",
   "execution_count": 7,
   "metadata": {},
   "outputs": [],
   "source": [
    "def BERT_tokenize_tokens(tokenizer, bert_tokens, max_len):\n",
    "    token_ids = [tokenizer.convert_tokens_to_ids(ts) for ts in bert_tokens]\n",
    "    token_lengths = list(map(len, token_ids))\n",
    "    token_ids = clip_pad_to_max(token_ids, max_len, 0)\n",
    "    token_tensor = torch.tensor(token_ids, dtype=torch.long, device=device)\n",
    "\n",
    "    # return token_tensor, token_lengths\n",
    "    return torch.t(token_tensor), token_lengths"
   ]
  },
  {
   "cell_type": "code",
   "execution_count": 17,
   "metadata": {},
   "outputs": [],
   "source": [
    "class IMDBLoader(SingleSentenceLoader):\n",
    "    def __init__(self, tokenizer, max_len, device, base=Path('../data/aclImdb'), size=None):\n",
    "        super().__init__(base, tokenizer, max_len, device, size)\n",
    "        \n",
    "    def open_and_clean(self, path):\n",
    "        file = open(str(self.base/path), encoding='utf-8').read()\n",
    "        # contractions = True for BERT consistency \n",
    "        clean_file = normalizeString(file, stopwords=False, contractions=True)\n",
    "        return clean_file\n",
    "        \n",
    "    def prepare(self, df):\n",
    "        results = [(self.open_and_clean(p), t) for (p, t) in zip(df['path'].values, df['target'].values)] \n",
    "        results = sorted(results, key=lambda e: len(e[0].split(' ')), reverse=True)\n",
    "        sents, targets = [e[0] for e in results], [e[1] for e in results]\n",
    "        return sents, targets"
   ]
  },
  {
   "cell_type": "code",
   "execution_count": 18,
   "metadata": {},
   "outputs": [],
   "source": [
    "from bert import tokenization\n",
    "vocab_file = './uncased_L-12_H-768_A-12/vocab.txt'\n",
    "tokenizer = tokenization.FullTokenizer(vocab_file=vocab_file, do_lower_case=True)"
   ]
  },
  {
   "cell_type": "code",
   "execution_count": 19,
   "metadata": {},
   "outputs": [
    {
     "name": "stdout",
     "output_type": "stream",
     "text": [
      "Length of (Train, Test) : (25000, 25000)\n"
     ]
    }
   ],
   "source": [
    "for x, y, lengths in IMDBLoader(max_len=10, device=device, tokenizer=tokenizer).batch_iter(batch_size=2, train=True, shuffle=True):\n",
    "    break"
   ]
  },
  {
   "cell_type": "code",
   "execution_count": 20,
   "metadata": {},
   "outputs": [
    {
     "data": {
      "text/plain": [
       "(tensor([[ 101,  101],\n",
       "         [2821, 6758],\n",
       "         [4658, 3185],\n",
       "         [3422, 9643],\n",
       "         [4333, 1012],\n",
       "         [4438, 3666],\n",
       "         [ 999, 9117],\n",
       "         [2472, 2245],\n",
       "         [6819, 3185],\n",
       "         [7983, 2071]]), tensor([[0, 1],\n",
       "         [1, 0]]), [96, 92], torch.Size([10, 2]))"
      ]
     },
     "execution_count": 20,
     "metadata": {},
     "output_type": "execute_result"
    }
   ],
   "source": [
    "x, y, lengths, x.shape"
   ]
  },
  {
   "cell_type": "markdown",
   "metadata": {},
   "source": [
    "# QQP Dataset"
   ]
  },
  {
   "cell_type": "code",
   "execution_count": 22,
   "metadata": {},
   "outputs": [],
   "source": [
    "data = base/'QQP'"
   ]
  },
  {
   "cell_type": "code",
   "execution_count": 25,
   "metadata": {},
   "outputs": [
    {
     "name": "stderr",
     "output_type": "stream",
     "text": [
      "b'Skipping line 83032: expected 6 fields, saw 7\\n'\n",
      "b'Skipping line 154657: expected 6 fields, saw 7\\n'\n",
      "b'Skipping line 323916: expected 6 fields, saw 7\\n'\n"
     ]
    },
    {
     "data": {
      "text/html": [
       "<div>\n",
       "<style scoped>\n",
       "    .dataframe tbody tr th:only-of-type {\n",
       "        vertical-align: middle;\n",
       "    }\n",
       "\n",
       "    .dataframe tbody tr th {\n",
       "        vertical-align: top;\n",
       "    }\n",
       "\n",
       "    .dataframe thead th {\n",
       "        text-align: right;\n",
       "    }\n",
       "</style>\n",
       "<table border=\"1\" class=\"dataframe\">\n",
       "  <thead>\n",
       "    <tr style=\"text-align: right;\">\n",
       "      <th></th>\n",
       "      <th>id</th>\n",
       "      <th>qid1</th>\n",
       "      <th>qid2</th>\n",
       "      <th>question1</th>\n",
       "      <th>question2</th>\n",
       "      <th>is_duplicate</th>\n",
       "    </tr>\n",
       "  </thead>\n",
       "  <tbody>\n",
       "    <tr>\n",
       "      <th>0</th>\n",
       "      <td>133273</td>\n",
       "      <td>213221</td>\n",
       "      <td>213222.0</td>\n",
       "      <td>How is the life of a math student? Could you d...</td>\n",
       "      <td>Which level of prepration is enough for the ex...</td>\n",
       "      <td>0.0</td>\n",
       "    </tr>\n",
       "    <tr>\n",
       "      <th>1</th>\n",
       "      <td>402555</td>\n",
       "      <td>536040</td>\n",
       "      <td>536041.0</td>\n",
       "      <td>How do I control my horny emotions?</td>\n",
       "      <td>How do you control your horniness?</td>\n",
       "      <td>1.0</td>\n",
       "    </tr>\n",
       "    <tr>\n",
       "      <th>2</th>\n",
       "      <td>360472</td>\n",
       "      <td>364011</td>\n",
       "      <td>490273.0</td>\n",
       "      <td>What causes stool color to change to yellow?</td>\n",
       "      <td>What can cause stool to come out as little balls?</td>\n",
       "      <td>0.0</td>\n",
       "    </tr>\n",
       "    <tr>\n",
       "      <th>3</th>\n",
       "      <td>150662</td>\n",
       "      <td>155721</td>\n",
       "      <td>7256.0</td>\n",
       "      <td>What can one do after MBBS?</td>\n",
       "      <td>What do i do after my MBBS ?</td>\n",
       "      <td>1.0</td>\n",
       "    </tr>\n",
       "    <tr>\n",
       "      <th>4</th>\n",
       "      <td>183004</td>\n",
       "      <td>279958</td>\n",
       "      <td>279959.0</td>\n",
       "      <td>Where can I find a power outlet for my laptop ...</td>\n",
       "      <td>Would a second airport in Sydney, Australia be...</td>\n",
       "      <td>0.0</td>\n",
       "    </tr>\n",
       "  </tbody>\n",
       "</table>\n",
       "</div>"
      ],
      "text/plain": [
       "       id    qid1      qid2  \\\n",
       "0  133273  213221  213222.0   \n",
       "1  402555  536040  536041.0   \n",
       "2  360472  364011  490273.0   \n",
       "3  150662  155721    7256.0   \n",
       "4  183004  279958  279959.0   \n",
       "\n",
       "                                           question1  \\\n",
       "0  How is the life of a math student? Could you d...   \n",
       "1                How do I control my horny emotions?   \n",
       "2       What causes stool color to change to yellow?   \n",
       "3                        What can one do after MBBS?   \n",
       "4  Where can I find a power outlet for my laptop ...   \n",
       "\n",
       "                                           question2  is_duplicate  \n",
       "0  Which level of prepration is enough for the ex...           0.0  \n",
       "1                 How do you control your horniness?           1.0  \n",
       "2  What can cause stool to come out as little balls?           0.0  \n",
       "3                       What do i do after my MBBS ?           1.0  \n",
       "4  Would a second airport in Sydney, Australia be...           0.0  "
      ]
     },
     "execution_count": 25,
     "metadata": {},
     "output_type": "execute_result"
    }
   ],
   "source": [
    "traindf = pd.read_csv(data/'train.tsv', delimiter='\\t', encoding='utf-8', error_bad_lines=False)\n",
    "testdf = pd.read_csv(data/'dev.tsv', delimiter='\\t', encoding='utf-8', error_bad_lines=False)\n",
    "traindf.head()"
   ]
  },
  {
   "cell_type": "code",
   "execution_count": 26,
   "metadata": {},
   "outputs": [
    {
     "data": {
      "text/html": [
       "<div>\n",
       "<style scoped>\n",
       "    .dataframe tbody tr th:only-of-type {\n",
       "        vertical-align: middle;\n",
       "    }\n",
       "\n",
       "    .dataframe tbody tr th {\n",
       "        vertical-align: top;\n",
       "    }\n",
       "\n",
       "    .dataframe thead th {\n",
       "        text-align: right;\n",
       "    }\n",
       "</style>\n",
       "<table border=\"1\" class=\"dataframe\">\n",
       "  <thead>\n",
       "    <tr style=\"text-align: right;\">\n",
       "      <th></th>\n",
       "      <th>id</th>\n",
       "      <th>qid1</th>\n",
       "      <th>qid2</th>\n",
       "      <th>question1</th>\n",
       "      <th>question2</th>\n",
       "      <th>is_duplicate</th>\n",
       "    </tr>\n",
       "  </thead>\n",
       "  <tbody>\n",
       "    <tr>\n",
       "      <th>0</th>\n",
       "      <td>201359</td>\n",
       "      <td>303345</td>\n",
       "      <td>303346</td>\n",
       "      <td>Why are African-Americans so beautiful?</td>\n",
       "      <td>Why are hispanics so beautiful?</td>\n",
       "      <td>0.0</td>\n",
       "    </tr>\n",
       "    <tr>\n",
       "      <th>1</th>\n",
       "      <td>263843</td>\n",
       "      <td>69383</td>\n",
       "      <td>380476</td>\n",
       "      <td>I want to pursue PhD in Computer Science about...</td>\n",
       "      <td>I handle social media for a non-profit. Should...</td>\n",
       "      <td>0.0</td>\n",
       "    </tr>\n",
       "    <tr>\n",
       "      <th>2</th>\n",
       "      <td>172974</td>\n",
       "      <td>266948</td>\n",
       "      <td>175089</td>\n",
       "      <td>Is there a reason why we should travel alone?</td>\n",
       "      <td>What are some reasons to travel alone?</td>\n",
       "      <td>1.0</td>\n",
       "    </tr>\n",
       "    <tr>\n",
       "      <th>3</th>\n",
       "      <td>15329</td>\n",
       "      <td>29298</td>\n",
       "      <td>29299</td>\n",
       "      <td>Why are people so obsessed with having a girlf...</td>\n",
       "      <td>How can a single male have a child?</td>\n",
       "      <td>0.0</td>\n",
       "    </tr>\n",
       "    <tr>\n",
       "      <th>4</th>\n",
       "      <td>209794</td>\n",
       "      <td>314169</td>\n",
       "      <td>314170</td>\n",
       "      <td>What are some good baby girl names starting wi...</td>\n",
       "      <td>What are some good baby girl names starting wi...</td>\n",
       "      <td>0.0</td>\n",
       "    </tr>\n",
       "  </tbody>\n",
       "</table>\n",
       "</div>"
      ],
      "text/plain": [
       "       id    qid1    qid2                                          question1  \\\n",
       "0  201359  303345  303346            Why are African-Americans so beautiful?   \n",
       "1  263843   69383  380476  I want to pursue PhD in Computer Science about...   \n",
       "2  172974  266948  175089      Is there a reason why we should travel alone?   \n",
       "3   15329   29298   29299  Why are people so obsessed with having a girlf...   \n",
       "4  209794  314169  314170  What are some good baby girl names starting wi...   \n",
       "\n",
       "                                           question2  is_duplicate  \n",
       "0                    Why are hispanics so beautiful?           0.0  \n",
       "1  I handle social media for a non-profit. Should...           0.0  \n",
       "2             What are some reasons to travel alone?           1.0  \n",
       "3                How can a single male have a child?           0.0  \n",
       "4  What are some good baby girl names starting wi...           0.0  "
      ]
     },
     "execution_count": 26,
     "metadata": {},
     "output_type": "execute_result"
    }
   ],
   "source": [
    "testdf.head()"
   ]
  },
  {
   "cell_type": "code",
   "execution_count": 27,
   "metadata": {},
   "outputs": [
    {
     "data": {
      "text/plain": [
       "(15, 363192)"
      ]
     },
     "execution_count": 27,
     "metadata": {},
     "output_type": "execute_result"
    }
   ],
   "source": [
    "len(traindf[traindf.isnull().any(axis=1)]), len(traindf)"
   ]
  },
  {
   "cell_type": "code",
   "execution_count": 28,
   "metadata": {},
   "outputs": [
    {
     "data": {
      "text/plain": [
       "(1, 40372)"
      ]
     },
     "execution_count": 28,
     "metadata": {},
     "output_type": "execute_result"
    }
   ],
   "source": [
    "len(testdf[testdf.isnull().any(axis=1)]), len(testdf)"
   ]
  },
  {
   "cell_type": "code",
   "execution_count": 29,
   "metadata": {},
   "outputs": [],
   "source": [
    "filtered_df = testdf[~testdf.isnull().any(axis=1)]\n",
    "assert len(filtered_df) == (len(testdf) - len(testdf[testdf.isnull().any(axis=1)]))\n",
    "testdf = filtered_df"
   ]
  },
  {
   "cell_type": "code",
   "execution_count": 112,
   "metadata": {},
   "outputs": [],
   "source": [
    "filtered_df = traindf[~traindf.isnull().any(axis=1)]\n",
    "assert len(filtered_df) == (len(traindf) - len(traindf[traindf.isnull().any(axis=1)]))\n",
    "traindf = filtered_df"
   ]
  },
  {
   "cell_type": "code",
   "execution_count": 30,
   "metadata": {},
   "outputs": [],
   "source": [
    "# df = traindf\n",
    "df = testdf\n",
    "\n",
    "lengths = []\n",
    "for q1, q2 in zip(df['question1'].values, df['question2'].values):\n",
    "    l1 = len(q1.split(' '))\n",
    "    l2 = len(q2.split(' '))\n",
    "    lengths.append(l1+l2)\n",
    "assert len(lengths) == len(df), '{} != {}'.format(len(lengths), len(df))\n",
    "\n",
    "length_df = pd.DataFrame({'file_length': lengths})\n",
    "df = pd.concat([df, length_df], axis=1)"
   ]
  },
  {
   "cell_type": "code",
   "execution_count": 31,
   "metadata": {},
   "outputs": [
    {
     "data": {
      "text/html": [
       "<div>\n",
       "<style scoped>\n",
       "    .dataframe tbody tr th:only-of-type {\n",
       "        vertical-align: middle;\n",
       "    }\n",
       "\n",
       "    .dataframe tbody tr th {\n",
       "        vertical-align: top;\n",
       "    }\n",
       "\n",
       "    .dataframe thead th {\n",
       "        text-align: right;\n",
       "    }\n",
       "</style>\n",
       "<table border=\"1\" class=\"dataframe\">\n",
       "  <thead>\n",
       "    <tr style=\"text-align: right;\">\n",
       "      <th></th>\n",
       "      <th>id</th>\n",
       "      <th>qid1</th>\n",
       "      <th>qid2</th>\n",
       "      <th>question1</th>\n",
       "      <th>question2</th>\n",
       "      <th>is_duplicate</th>\n",
       "      <th>file_length</th>\n",
       "    </tr>\n",
       "  </thead>\n",
       "  <tbody>\n",
       "    <tr>\n",
       "      <th>0</th>\n",
       "      <td>201359</td>\n",
       "      <td>303345</td>\n",
       "      <td>303346.0</td>\n",
       "      <td>Why are African-Americans so beautiful?</td>\n",
       "      <td>Why are hispanics so beautiful?</td>\n",
       "      <td>0.0</td>\n",
       "      <td>10.0</td>\n",
       "    </tr>\n",
       "    <tr>\n",
       "      <th>1</th>\n",
       "      <td>263843</td>\n",
       "      <td>69383</td>\n",
       "      <td>380476.0</td>\n",
       "      <td>I want to pursue PhD in Computer Science about...</td>\n",
       "      <td>I handle social media for a non-profit. Should...</td>\n",
       "      <td>0.0</td>\n",
       "      <td>43.0</td>\n",
       "    </tr>\n",
       "    <tr>\n",
       "      <th>2</th>\n",
       "      <td>172974</td>\n",
       "      <td>266948</td>\n",
       "      <td>175089.0</td>\n",
       "      <td>Is there a reason why we should travel alone?</td>\n",
       "      <td>What are some reasons to travel alone?</td>\n",
       "      <td>1.0</td>\n",
       "      <td>16.0</td>\n",
       "    </tr>\n",
       "    <tr>\n",
       "      <th>3</th>\n",
       "      <td>15329</td>\n",
       "      <td>29298</td>\n",
       "      <td>29299.0</td>\n",
       "      <td>Why are people so obsessed with having a girlf...</td>\n",
       "      <td>How can a single male have a child?</td>\n",
       "      <td>0.0</td>\n",
       "      <td>17.0</td>\n",
       "    </tr>\n",
       "    <tr>\n",
       "      <th>4</th>\n",
       "      <td>209794</td>\n",
       "      <td>314169</td>\n",
       "      <td>314170.0</td>\n",
       "      <td>What are some good baby girl names starting wi...</td>\n",
       "      <td>What are some good baby girl names starting wi...</td>\n",
       "      <td>0.0</td>\n",
       "      <td>22.0</td>\n",
       "    </tr>\n",
       "  </tbody>\n",
       "</table>\n",
       "</div>"
      ],
      "text/plain": [
       "       id    qid1      qid2  \\\n",
       "0  201359  303345  303346.0   \n",
       "1  263843   69383  380476.0   \n",
       "2  172974  266948  175089.0   \n",
       "3   15329   29298   29299.0   \n",
       "4  209794  314169  314170.0   \n",
       "\n",
       "                                           question1  \\\n",
       "0            Why are African-Americans so beautiful?   \n",
       "1  I want to pursue PhD in Computer Science about...   \n",
       "2      Is there a reason why we should travel alone?   \n",
       "3  Why are people so obsessed with having a girlf...   \n",
       "4  What are some good baby girl names starting wi...   \n",
       "\n",
       "                                           question2  is_duplicate  \\\n",
       "0                    Why are hispanics so beautiful?           0.0   \n",
       "1  I handle social media for a non-profit. Should...           0.0   \n",
       "2             What are some reasons to travel alone?           1.0   \n",
       "3                How can a single male have a child?           0.0   \n",
       "4  What are some good baby girl names starting wi...           0.0   \n",
       "\n",
       "   file_length  \n",
       "0         10.0  \n",
       "1         43.0  \n",
       "2         16.0  \n",
       "3         17.0  \n",
       "4         22.0  "
      ]
     },
     "execution_count": 31,
     "metadata": {},
     "output_type": "execute_result"
    }
   ],
   "source": [
    "df.head()"
   ]
  },
  {
   "cell_type": "code",
   "execution_count": 118,
   "metadata": {},
   "outputs": [
    {
     "data": {
      "text/plain": [
       "363192"
      ]
     },
     "execution_count": 118,
     "metadata": {},
     "output_type": "execute_result"
    }
   ],
   "source": [
    "len(df)"
   ]
  },
  {
   "cell_type": "code",
   "execution_count": 32,
   "metadata": {},
   "outputs": [],
   "source": [
    "name = 'test.csv'\n",
    "df.to_csv(data/name, index=False)"
   ]
  },
  {
   "cell_type": "code",
   "execution_count": 514,
   "metadata": {},
   "outputs": [],
   "source": [
    "class TwoSentenceLoader(BatchLoader):\n",
    "    def __init__(self, base, tokenizer, max_len, device, size=None):\n",
    "        super().__init__(base, tokenizer, max_len, device, size)\n",
    "        self.number_classes = 2\n",
    "        \n",
    "    def tokenize(self, bert_tokens):\n",
    "        # alread been tokenized by prepare\n",
    "        return BERT_tokenize_tokens(self.tokenizer, bert_tokens, self.max_len)\n",
    "        \n",
    "    def prepare(self, df):\n",
    "        sentences = []\n",
    "        targets = []\n",
    "        for q, s, y in zip(df[self.s1_name].values,\\\n",
    "                           df[self.s2_name].values,\\\n",
    "                           df[self.target_name].values):\n",
    "            # clean\n",
    "            q = normalizeString(q, stopwords=True, contractions=True)\n",
    "            s = normalizeString(s, stopwords=True, contractions=True)\n",
    "            # tokenize\n",
    "            q_tokens = tokenizer.tokenize(q)\n",
    "            s_tokens = tokenizer.tokenize(s)\n",
    "            # combine\n",
    "            s = ['[CLS]'] + q_tokens + ['[SEP]'] + s_tokens\n",
    "            sentences.append(s)\n",
    "            targets.append(int(y))\n",
    "        return sentences, targets"
   ]
  },
  {
   "cell_type": "code",
   "execution_count": 515,
   "metadata": {},
   "outputs": [],
   "source": [
    "class QQPLoader(TwoSentenceLoader):\n",
    "    def __init__(self, tokenizer, max_len, device, base=Path('../data/QQP'), size=None):\n",
    "        super().__init__(base, tokenizer, max_len, device, size)    \n",
    "        self.s1_name = 'question1'\n",
    "        self.s2_name = 'question2'\n",
    "        self.target_name = 'is_duplicate'\n"
   ]
  },
  {
   "cell_type": "code",
   "execution_count": 516,
   "metadata": {},
   "outputs": [
    {
     "name": "stdout",
     "output_type": "stream",
     "text": [
      "Length of (Train, Test) : (363192, 390965)\n"
     ]
    }
   ],
   "source": [
    "for x, y, lengths in QQPLoader(max_len=10, device=device, tokenizer=tokenizer).batch_iter(batch_size=2, train=True, shuffle=True):\n",
    "    break"
   ]
  },
  {
   "cell_type": "code",
   "execution_count": 517,
   "metadata": {},
   "outputs": [
    {
     "data": {
      "text/plain": [
       "(tensor([[  101,   101],\n",
       "         [ 2097,  2515],\n",
       "         [21029, 19102],\n",
       "         [ 1998,  9088],\n",
       "         [ 3964,  3602],\n",
       "         [ 2064,  2490],\n",
       "         [ 2644,  1043],\n",
       "         [ 1996,  1029],\n",
       "         [ 2304,   102],\n",
       "         [ 2769,  2054]]), tensor([[0, 1],\n",
       "         [1, 0]]), [31, 21])"
      ]
     },
     "execution_count": 517,
     "metadata": {},
     "output_type": "execute_result"
    }
   ],
   "source": [
    "x, y, lengths"
   ]
  },
  {
   "cell_type": "markdown",
   "metadata": {},
   "source": [
    "# QNLI"
   ]
  },
  {
   "cell_type": "code",
   "execution_count": 308,
   "metadata": {},
   "outputs": [],
   "source": [
    "data = base/'QNLI'"
   ]
  },
  {
   "cell_type": "code",
   "execution_count": 329,
   "metadata": {},
   "outputs": [
    {
     "name": "stderr",
     "output_type": "stream",
     "text": [
      "b'Skipping line 10344: expected 4 fields, saw 5\\nSkipping line 10897: expected 4 fields, saw 5\\nSkipping line 11356: expected 4 fields, saw 5\\nSkipping line 11367: expected 4 fields, saw 5\\nSkipping line 16599: expected 4 fields, saw 5\\nSkipping line 17114: expected 4 fields, saw 5\\nSkipping line 23153: expected 4 fields, saw 5\\nSkipping line 25672: expected 4 fields, saw 5\\nSkipping line 31107: expected 4 fields, saw 5\\nSkipping line 31359: expected 4 fields, saw 5\\nSkipping line 31402: expected 4 fields, saw 5\\nSkipping line 32555: expected 4 fields, saw 5\\nSkipping line 38524: expected 4 fields, saw 5\\nSkipping line 46338: expected 4 fields, saw 5\\nSkipping line 47889: expected 4 fields, saw 5\\nSkipping line 56759: expected 4 fields, saw 5\\nSkipping line 56850: expected 4 fields, saw 5\\nSkipping line 56919: expected 4 fields, saw 5\\nSkipping line 57514: expected 4 fields, saw 5\\nSkipping line 67155: expected 4 fields, saw 5\\nSkipping line 75061: expected 4 fields, saw 5\\nSkipping line 75721: expected 4 fields, saw 5\\nSkipping line 76275: expected 4 fields, saw 5\\nSkipping line 81073: expected 4 fields, saw 5\\nSkipping line 81535: expected 4 fields, saw 5\\nSkipping line 82386: expected 4 fields, saw 5\\nSkipping line 83818: expected 4 fields, saw 5\\nSkipping line 84674: expected 4 fields, saw 5\\nSkipping line 88965: expected 4 fields, saw 5\\nSkipping line 90380: expected 4 fields, saw 5\\nSkipping line 91441: expected 4 fields, saw 5\\nSkipping line 91640: expected 4 fields, saw 5\\nSkipping line 92513: expected 4 fields, saw 5\\nSkipping line 102152: expected 4 fields, saw 5\\n'\n",
      "b'Skipping line 660: expected 4 fields, saw 5\\n'\n"
     ]
    },
    {
     "data": {
      "text/html": [
       "<div>\n",
       "<style scoped>\n",
       "    .dataframe tbody tr th:only-of-type {\n",
       "        vertical-align: middle;\n",
       "    }\n",
       "\n",
       "    .dataframe tbody tr th {\n",
       "        vertical-align: top;\n",
       "    }\n",
       "\n",
       "    .dataframe thead th {\n",
       "        text-align: right;\n",
       "    }\n",
       "</style>\n",
       "<table border=\"1\" class=\"dataframe\">\n",
       "  <thead>\n",
       "    <tr style=\"text-align: right;\">\n",
       "      <th></th>\n",
       "      <th>index</th>\n",
       "      <th>question</th>\n",
       "      <th>sentence</th>\n",
       "      <th>label</th>\n",
       "    </tr>\n",
       "  </thead>\n",
       "  <tbody>\n",
       "    <tr>\n",
       "      <th>0</th>\n",
       "      <td>0</td>\n",
       "      <td>When did the third Digimon series begin?</td>\n",
       "      <td>Unlike the two seasons before it and most of t...</td>\n",
       "      <td>not_entailment</td>\n",
       "    </tr>\n",
       "    <tr>\n",
       "      <th>1</th>\n",
       "      <td>1</td>\n",
       "      <td>Which missile batteries often have individual ...</td>\n",
       "      <td>When MANPADS is operated by specialists, batte...</td>\n",
       "      <td>not_entailment</td>\n",
       "    </tr>\n",
       "    <tr>\n",
       "      <th>2</th>\n",
       "      <td>2</td>\n",
       "      <td>What two things does Popper argue Tarski's the...</td>\n",
       "      <td>He bases this interpretation on the fact that ...</td>\n",
       "      <td>entailment</td>\n",
       "    </tr>\n",
       "    <tr>\n",
       "      <th>3</th>\n",
       "      <td>3</td>\n",
       "      <td>What is the name of the village 9 miles north ...</td>\n",
       "      <td>On 31 December 1853, the Ottoman forces at Cal...</td>\n",
       "      <td>entailment</td>\n",
       "    </tr>\n",
       "    <tr>\n",
       "      <th>4</th>\n",
       "      <td>4</td>\n",
       "      <td>What famous palace is located in London?</td>\n",
       "      <td>London contains four World Heritage Sites: the...</td>\n",
       "      <td>not_entailment</td>\n",
       "    </tr>\n",
       "  </tbody>\n",
       "</table>\n",
       "</div>"
      ],
      "text/plain": [
       "   index                                           question  \\\n",
       "0      0           When did the third Digimon series begin?   \n",
       "1      1  Which missile batteries often have individual ...   \n",
       "2      2  What two things does Popper argue Tarski's the...   \n",
       "3      3  What is the name of the village 9 miles north ...   \n",
       "4      4           What famous palace is located in London?   \n",
       "\n",
       "                                            sentence           label  \n",
       "0  Unlike the two seasons before it and most of t...  not_entailment  \n",
       "1  When MANPADS is operated by specialists, batte...  not_entailment  \n",
       "2  He bases this interpretation on the fact that ...      entailment  \n",
       "3  On 31 December 1853, the Ottoman forces at Cal...      entailment  \n",
       "4  London contains four World Heritage Sites: the...  not_entailment  "
      ]
     },
     "execution_count": 329,
     "metadata": {},
     "output_type": "execute_result"
    }
   ],
   "source": [
    "traindf = pd.read_csv(data/'train.tsv', delimiter='\\t', encoding='utf-8', error_bad_lines=False)\n",
    "testdf = pd.read_csv(data/'dev.tsv', delimiter='\\t', encoding='utf-8', error_bad_lines=False)\n",
    "traindf.head()"
   ]
  },
  {
   "cell_type": "code",
   "execution_count": 330,
   "metadata": {},
   "outputs": [
    {
     "data": {
      "text/plain": [
       "(0, 103106)"
      ]
     },
     "execution_count": 330,
     "metadata": {},
     "output_type": "execute_result"
    }
   ],
   "source": [
    "len(traindf[traindf.isnull().any(axis=1)]), len(traindf)"
   ]
  },
  {
   "cell_type": "code",
   "execution_count": 331,
   "metadata": {},
   "outputs": [
    {
     "data": {
      "text/plain": [
       "(0, 5266)"
      ]
     },
     "execution_count": 331,
     "metadata": {},
     "output_type": "execute_result"
    }
   ],
   "source": [
    "len(testdf[testdf.isnull().any(axis=1)]), len(testdf)"
   ]
  },
  {
   "cell_type": "code",
   "execution_count": 332,
   "metadata": {},
   "outputs": [],
   "source": [
    "df = testdf"
   ]
  },
  {
   "cell_type": "code",
   "execution_count": 333,
   "metadata": {},
   "outputs": [
    {
     "data": {
      "text/html": [
       "<div>\n",
       "<style scoped>\n",
       "    .dataframe tbody tr th:only-of-type {\n",
       "        vertical-align: middle;\n",
       "    }\n",
       "\n",
       "    .dataframe tbody tr th {\n",
       "        vertical-align: top;\n",
       "    }\n",
       "\n",
       "    .dataframe thead th {\n",
       "        text-align: right;\n",
       "    }\n",
       "</style>\n",
       "<table border=\"1\" class=\"dataframe\">\n",
       "  <thead>\n",
       "    <tr style=\"text-align: right;\">\n",
       "      <th></th>\n",
       "      <th>index</th>\n",
       "      <th>question</th>\n",
       "      <th>sentence</th>\n",
       "      <th>label</th>\n",
       "    </tr>\n",
       "  </thead>\n",
       "  <tbody>\n",
       "    <tr>\n",
       "      <th>0</th>\n",
       "      <td>0</td>\n",
       "      <td>What came into force after the new constitutio...</td>\n",
       "      <td>As of that day, the new constitution heralding...</td>\n",
       "      <td>entailment</td>\n",
       "    </tr>\n",
       "    <tr>\n",
       "      <th>1</th>\n",
       "      <td>1</td>\n",
       "      <td>What is the first major city in the stream of ...</td>\n",
       "      <td>The most important tributaries in this area ar...</td>\n",
       "      <td>not_entailment</td>\n",
       "    </tr>\n",
       "    <tr>\n",
       "      <th>2</th>\n",
       "      <td>2</td>\n",
       "      <td>What is the minimum required if you want to te...</td>\n",
       "      <td>In most provinces a second Bachelor's Degree s...</td>\n",
       "      <td>not_entailment</td>\n",
       "    </tr>\n",
       "    <tr>\n",
       "      <th>3</th>\n",
       "      <td>3</td>\n",
       "      <td>How was Temüjin kept imprisoned by the Tayichi...</td>\n",
       "      <td>The Tayichi'ud enslaved Temüjin (reportedly wi...</td>\n",
       "      <td>entailment</td>\n",
       "    </tr>\n",
       "    <tr>\n",
       "      <th>4</th>\n",
       "      <td>4</td>\n",
       "      <td>What did Herr Gott, dich loben wir become know...</td>\n",
       "      <td>He paraphrased the Te Deum as \"Herr Gott, dich...</td>\n",
       "      <td>not_entailment</td>\n",
       "    </tr>\n",
       "  </tbody>\n",
       "</table>\n",
       "</div>"
      ],
      "text/plain": [
       "   index                                           question  \\\n",
       "0      0  What came into force after the new constitutio...   \n",
       "1      1  What is the first major city in the stream of ...   \n",
       "2      2  What is the minimum required if you want to te...   \n",
       "3      3  How was Temüjin kept imprisoned by the Tayichi...   \n",
       "4      4  What did Herr Gott, dich loben wir become know...   \n",
       "\n",
       "                                            sentence           label  \n",
       "0  As of that day, the new constitution heralding...      entailment  \n",
       "1  The most important tributaries in this area ar...  not_entailment  \n",
       "2  In most provinces a second Bachelor's Degree s...  not_entailment  \n",
       "3  The Tayichi'ud enslaved Temüjin (reportedly wi...      entailment  \n",
       "4  He paraphrased the Te Deum as \"Herr Gott, dich...  not_entailment  "
      ]
     },
     "execution_count": 333,
     "metadata": {},
     "output_type": "execute_result"
    }
   ],
   "source": [
    "df.head()"
   ]
  },
  {
   "cell_type": "code",
   "execution_count": 334,
   "metadata": {},
   "outputs": [],
   "source": [
    "lengths = []\n",
    "int_label = []\n",
    "for q, s, l in zip(df['question'].values, df['sentence'].values, df['label'].values):\n",
    "    l1 = len(q.split(' '))\n",
    "    l2 = len(s.split(' '))\n",
    "    i_label = 0 if l == 'not_entailment' else 1\n",
    "    assert l in ['not_entailment', 'entailment'], \"Value {} not found\".format(l)\n",
    "    lengths.append(l1+l2)\n",
    "    int_label.append(i_label)"
   ]
  },
  {
   "cell_type": "code",
   "execution_count": 335,
   "metadata": {},
   "outputs": [],
   "source": [
    "length_df = pd.DataFrame({'file_length': lengths,\n",
    "                          'targets': int_label})\n",
    "df = pd.concat([df, length_df], axis=1)"
   ]
  },
  {
   "cell_type": "code",
   "execution_count": 336,
   "metadata": {},
   "outputs": [
    {
     "data": {
      "text/html": [
       "<div>\n",
       "<style scoped>\n",
       "    .dataframe tbody tr th:only-of-type {\n",
       "        vertical-align: middle;\n",
       "    }\n",
       "\n",
       "    .dataframe tbody tr th {\n",
       "        vertical-align: top;\n",
       "    }\n",
       "\n",
       "    .dataframe thead th {\n",
       "        text-align: right;\n",
       "    }\n",
       "</style>\n",
       "<table border=\"1\" class=\"dataframe\">\n",
       "  <thead>\n",
       "    <tr style=\"text-align: right;\">\n",
       "      <th></th>\n",
       "      <th>index</th>\n",
       "      <th>question</th>\n",
       "      <th>sentence</th>\n",
       "      <th>label</th>\n",
       "      <th>file_length</th>\n",
       "      <th>targets</th>\n",
       "    </tr>\n",
       "  </thead>\n",
       "  <tbody>\n",
       "    <tr>\n",
       "      <th>0</th>\n",
       "      <td>0</td>\n",
       "      <td>What came into force after the new constitutio...</td>\n",
       "      <td>As of that day, the new constitution heralding...</td>\n",
       "      <td>entailment</td>\n",
       "      <td>24</td>\n",
       "      <td>1</td>\n",
       "    </tr>\n",
       "    <tr>\n",
       "      <th>1</th>\n",
       "      <td>1</td>\n",
       "      <td>What is the first major city in the stream of ...</td>\n",
       "      <td>The most important tributaries in this area ar...</td>\n",
       "      <td>not_entailment</td>\n",
       "      <td>35</td>\n",
       "      <td>0</td>\n",
       "    </tr>\n",
       "    <tr>\n",
       "      <th>2</th>\n",
       "      <td>2</td>\n",
       "      <td>What is the minimum required if you want to te...</td>\n",
       "      <td>In most provinces a second Bachelor's Degree s...</td>\n",
       "      <td>not_entailment</td>\n",
       "      <td>32</td>\n",
       "      <td>0</td>\n",
       "    </tr>\n",
       "    <tr>\n",
       "      <th>3</th>\n",
       "      <td>3</td>\n",
       "      <td>How was Temüjin kept imprisoned by the Tayichi...</td>\n",
       "      <td>The Tayichi'ud enslaved Temüjin (reportedly wi...</td>\n",
       "      <td>entailment</td>\n",
       "      <td>63</td>\n",
       "      <td>1</td>\n",
       "    </tr>\n",
       "    <tr>\n",
       "      <th>4</th>\n",
       "      <td>4</td>\n",
       "      <td>What did Herr Gott, dich loben wir become know...</td>\n",
       "      <td>He paraphrased the Te Deum as \"Herr Gott, dich...</td>\n",
       "      <td>not_entailment</td>\n",
       "      <td>29</td>\n",
       "      <td>0</td>\n",
       "    </tr>\n",
       "  </tbody>\n",
       "</table>\n",
       "</div>"
      ],
      "text/plain": [
       "   index                                           question  \\\n",
       "0      0  What came into force after the new constitutio...   \n",
       "1      1  What is the first major city in the stream of ...   \n",
       "2      2  What is the minimum required if you want to te...   \n",
       "3      3  How was Temüjin kept imprisoned by the Tayichi...   \n",
       "4      4  What did Herr Gott, dich loben wir become know...   \n",
       "\n",
       "                                            sentence           label  \\\n",
       "0  As of that day, the new constitution heralding...      entailment   \n",
       "1  The most important tributaries in this area ar...  not_entailment   \n",
       "2  In most provinces a second Bachelor's Degree s...  not_entailment   \n",
       "3  The Tayichi'ud enslaved Temüjin (reportedly wi...      entailment   \n",
       "4  He paraphrased the Te Deum as \"Herr Gott, dich...  not_entailment   \n",
       "\n",
       "   file_length  targets  \n",
       "0           24        1  \n",
       "1           35        0  \n",
       "2           32        0  \n",
       "3           63        1  \n",
       "4           29        0  "
      ]
     },
     "execution_count": 336,
     "metadata": {},
     "output_type": "execute_result"
    }
   ],
   "source": [
    "df.head()"
   ]
  },
  {
   "cell_type": "code",
   "execution_count": 518,
   "metadata": {},
   "outputs": [],
   "source": [
    "class QNLILoader(TwoSentenceLoader):\n",
    "    def __init__(self, tokenizer, max_len, device, base=Path('../data/QNLI'), size=None):\n",
    "        super().__init__(base, tokenizer, max_len, device, size)        \n",
    "        \n",
    "        self.s1_name = 'question'\n",
    "        self.s2_name = 'sentence'\n",
    "        self.target_name = 'targets'"
   ]
  },
  {
   "cell_type": "code",
   "execution_count": 519,
   "metadata": {},
   "outputs": [
    {
     "name": "stdout",
     "output_type": "stream",
     "text": [
      "Length of (Train, Test) : (103106, 5266)\n"
     ]
    }
   ],
   "source": [
    "for x, y, lengths in QNLILoader(max_len=100, device=device, tokenizer=tokenizer).batch_iter(batch_size=2, train=True, shuffle=True):\n",
    "    break"
   ]
  },
  {
   "cell_type": "code",
   "execution_count": 520,
   "metadata": {},
   "outputs": [
    {
     "data": {
      "text/plain": [
       "(tensor([[  101,   101],\n",
       "         [ 2054,  2040],\n",
       "         [ 2001,  2001],\n",
       "         [ 1996,  2715],\n",
       "         [ 2590,  5483],\n",
       "         [ 6651,  1055],\n",
       "         [ 1997,  2034],\n",
       "         [ 1996,  2343],\n",
       "         [ 4461,  1029],\n",
       "         [14263,   102],\n",
       "         [ 2213,  1999],\n",
       "         [ 1029,  2715],\n",
       "         [  102,  5483],\n",
       "         [ 1996,  1055],\n",
       "         [ 4461,  2034],\n",
       "         [14263,  2343],\n",
       "         [ 2213, 22834],\n",
       "         [ 2001, 11639],\n",
       "         [ 2028,  2483],\n",
       "         [ 1997, 10556],\n",
       "         [ 1996, 27633],\n",
       "         [ 2087,  2923],\n",
       "         [ 2590,  4360],\n",
       "         [ 4204,  2015],\n",
       "         [ 1997,  2170],\n",
       "         [ 1996,  2005],\n",
       "         [ 6188,  2586],\n",
       "         [ 2457,  1997],\n",
       "         [ 1012,  9719],\n",
       "         [    0,  2007],\n",
       "         [    0,  5483],\n",
       "         [    0,  1998],\n",
       "         [    0,  3365],\n",
       "         [    0,  3576],\n",
       "         [    0, 10138],\n",
       "         [    0,  2015],\n",
       "         [    0,  2165],\n",
       "         [    0,  2173],\n",
       "         [    0,  1012]]), tensor([[0, 1],\n",
       "         [0, 1]]), [29, 39])"
      ]
     },
     "execution_count": 520,
     "metadata": {},
     "output_type": "execute_result"
    }
   ],
   "source": [
    "x, y, lengths"
   ]
  },
  {
   "cell_type": "code",
   "execution_count": 521,
   "metadata": {},
   "outputs": [
    {
     "data": {
      "text/plain": [
       "'[CLS] who was modern greece s first president ? [SEP] in modern greece s first president io ##ann ##is ka ##pod ##ist ##ria ##s called for union of cyprus with greece and numerous minor uprising ##s took place .'"
      ]
     },
     "execution_count": 521,
     "metadata": {},
     "output_type": "execute_result"
    }
   ],
   "source": [
    "\" \".join(tokenizer.convert_ids_to_tokens(x[:, 1].detach().numpy()))"
   ]
  },
  {
   "cell_type": "code",
   "execution_count": 522,
   "metadata": {},
   "outputs": [
    {
     "data": {
      "text/plain": [
       "tensor([[0, 1],\n",
       "        [0, 1]])"
      ]
     },
     "execution_count": 522,
     "metadata": {},
     "output_type": "execute_result"
    }
   ],
   "source": [
    "y"
   ]
  },
  {
   "cell_type": "markdown",
   "metadata": {},
   "source": [
    "# RTE"
   ]
  },
  {
   "cell_type": "code",
   "execution_count": 398,
   "metadata": {},
   "outputs": [
    {
     "data": {
      "text/html": [
       "<div>\n",
       "<style scoped>\n",
       "    .dataframe tbody tr th:only-of-type {\n",
       "        vertical-align: middle;\n",
       "    }\n",
       "\n",
       "    .dataframe tbody tr th {\n",
       "        vertical-align: top;\n",
       "    }\n",
       "\n",
       "    .dataframe thead th {\n",
       "        text-align: right;\n",
       "    }\n",
       "</style>\n",
       "<table border=\"1\" class=\"dataframe\">\n",
       "  <thead>\n",
       "    <tr style=\"text-align: right;\">\n",
       "      <th></th>\n",
       "      <th>index</th>\n",
       "      <th>sentence1</th>\n",
       "      <th>sentence2</th>\n",
       "      <th>label</th>\n",
       "    </tr>\n",
       "  </thead>\n",
       "  <tbody>\n",
       "    <tr>\n",
       "      <th>0</th>\n",
       "      <td>0</td>\n",
       "      <td>No Weapons of Mass Destruction Found in Iraq Yet.</td>\n",
       "      <td>Weapons of Mass Destruction Found in Iraq.</td>\n",
       "      <td>not_entailment</td>\n",
       "    </tr>\n",
       "    <tr>\n",
       "      <th>1</th>\n",
       "      <td>1</td>\n",
       "      <td>A place of sorrow, after Pope John Paul II die...</td>\n",
       "      <td>Pope Benedict XVI is the new leader of the Rom...</td>\n",
       "      <td>entailment</td>\n",
       "    </tr>\n",
       "    <tr>\n",
       "      <th>2</th>\n",
       "      <td>2</td>\n",
       "      <td>Herceptin was already approved to treat the si...</td>\n",
       "      <td>Herceptin can be used to treat breast cancer.</td>\n",
       "      <td>entailment</td>\n",
       "    </tr>\n",
       "    <tr>\n",
       "      <th>3</th>\n",
       "      <td>3</td>\n",
       "      <td>Judie Vivian, chief executive at ProMedica, a ...</td>\n",
       "      <td>The previous name of Ho Chi Minh City was Saigon.</td>\n",
       "      <td>entailment</td>\n",
       "    </tr>\n",
       "    <tr>\n",
       "      <th>4</th>\n",
       "      <td>4</td>\n",
       "      <td>A man is due in court later charged with the m...</td>\n",
       "      <td>Paul Stewart Hutchinson is accused of having s...</td>\n",
       "      <td>not_entailment</td>\n",
       "    </tr>\n",
       "  </tbody>\n",
       "</table>\n",
       "</div>"
      ],
      "text/plain": [
       "   index                                          sentence1  \\\n",
       "0      0  No Weapons of Mass Destruction Found in Iraq Yet.   \n",
       "1      1  A place of sorrow, after Pope John Paul II die...   \n",
       "2      2  Herceptin was already approved to treat the si...   \n",
       "3      3  Judie Vivian, chief executive at ProMedica, a ...   \n",
       "4      4  A man is due in court later charged with the m...   \n",
       "\n",
       "                                           sentence2           label  \n",
       "0         Weapons of Mass Destruction Found in Iraq.  not_entailment  \n",
       "1  Pope Benedict XVI is the new leader of the Rom...      entailment  \n",
       "2      Herceptin can be used to treat breast cancer.      entailment  \n",
       "3  The previous name of Ho Chi Minh City was Saigon.      entailment  \n",
       "4  Paul Stewart Hutchinson is accused of having s...  not_entailment  "
      ]
     },
     "execution_count": 398,
     "metadata": {},
     "output_type": "execute_result"
    }
   ],
   "source": [
    "data = base/'RTE'\n",
    "traindf = pd.read_csv(data/'train.tsv', delimiter='\\t', encoding='utf-8', error_bad_lines=False)\n",
    "testdf = pd.read_csv(data/'dev.tsv', delimiter='\\t', encoding='utf-8', error_bad_lines=False)\n",
    "traindf.head()"
   ]
  },
  {
   "cell_type": "code",
   "execution_count": 399,
   "metadata": {},
   "outputs": [
    {
     "data": {
      "text/html": [
       "<div>\n",
       "<style scoped>\n",
       "    .dataframe tbody tr th:only-of-type {\n",
       "        vertical-align: middle;\n",
       "    }\n",
       "\n",
       "    .dataframe tbody tr th {\n",
       "        vertical-align: top;\n",
       "    }\n",
       "\n",
       "    .dataframe thead th {\n",
       "        text-align: right;\n",
       "    }\n",
       "</style>\n",
       "<table border=\"1\" class=\"dataframe\">\n",
       "  <thead>\n",
       "    <tr style=\"text-align: right;\">\n",
       "      <th></th>\n",
       "      <th>index</th>\n",
       "      <th>sentence1</th>\n",
       "      <th>sentence2</th>\n",
       "      <th>label</th>\n",
       "    </tr>\n",
       "  </thead>\n",
       "  <tbody>\n",
       "    <tr>\n",
       "      <th>0</th>\n",
       "      <td>0</td>\n",
       "      <td>Dana Reeve, the widow of the actor Christopher...</td>\n",
       "      <td>Christopher Reeve had an accident.</td>\n",
       "      <td>not_entailment</td>\n",
       "    </tr>\n",
       "    <tr>\n",
       "      <th>1</th>\n",
       "      <td>1</td>\n",
       "      <td>Yet, we now are discovering that antibiotics a...</td>\n",
       "      <td>Bacteria is winning the war against antibiotics.</td>\n",
       "      <td>entailment</td>\n",
       "    </tr>\n",
       "    <tr>\n",
       "      <th>2</th>\n",
       "      <td>2</td>\n",
       "      <td>Cairo is now home to some 15 million people - ...</td>\n",
       "      <td>15 million tonnes of rubbish are produced dail...</td>\n",
       "      <td>not_entailment</td>\n",
       "    </tr>\n",
       "    <tr>\n",
       "      <th>3</th>\n",
       "      <td>3</td>\n",
       "      <td>The Amish community in Pennsylvania, which num...</td>\n",
       "      <td>Pennsylvania has the biggest Amish community i...</td>\n",
       "      <td>not_entailment</td>\n",
       "    </tr>\n",
       "    <tr>\n",
       "      <th>4</th>\n",
       "      <td>4</td>\n",
       "      <td>Security forces were on high alert after an el...</td>\n",
       "      <td>Security forces were on high alert after a cam...</td>\n",
       "      <td>entailment</td>\n",
       "    </tr>\n",
       "  </tbody>\n",
       "</table>\n",
       "</div>"
      ],
      "text/plain": [
       "   index                                          sentence1  \\\n",
       "0      0  Dana Reeve, the widow of the actor Christopher...   \n",
       "1      1  Yet, we now are discovering that antibiotics a...   \n",
       "2      2  Cairo is now home to some 15 million people - ...   \n",
       "3      3  The Amish community in Pennsylvania, which num...   \n",
       "4      4  Security forces were on high alert after an el...   \n",
       "\n",
       "                                           sentence2           label  \n",
       "0                 Christopher Reeve had an accident.  not_entailment  \n",
       "1   Bacteria is winning the war against antibiotics.      entailment  \n",
       "2  15 million tonnes of rubbish are produced dail...  not_entailment  \n",
       "3  Pennsylvania has the biggest Amish community i...  not_entailment  \n",
       "4  Security forces were on high alert after a cam...      entailment  "
      ]
     },
     "execution_count": 399,
     "metadata": {},
     "output_type": "execute_result"
    }
   ],
   "source": [
    "testdf.head()"
   ]
  },
  {
   "cell_type": "code",
   "execution_count": 400,
   "metadata": {},
   "outputs": [
    {
     "data": {
      "text/plain": [
       "(1, 2490)"
      ]
     },
     "execution_count": 400,
     "metadata": {},
     "output_type": "execute_result"
    }
   ],
   "source": [
    "len(traindf[traindf.isnull().any(axis=1)]), len(traindf)"
   ]
  },
  {
   "cell_type": "code",
   "execution_count": 401,
   "metadata": {},
   "outputs": [
    {
     "data": {
      "text/plain": [
       "(0, 277)"
      ]
     },
     "execution_count": 401,
     "metadata": {},
     "output_type": "execute_result"
    }
   ],
   "source": [
    "len(testdf[testdf.isnull().any(axis=1)]), len(testdf)"
   ]
  },
  {
   "cell_type": "code",
   "execution_count": 402,
   "metadata": {},
   "outputs": [],
   "source": [
    "filtered_df = traindf[~traindf.isnull().any(axis=1)]\n",
    "assert len(filtered_df) == (len(traindf) - len(traindf[traindf.isnull().any(axis=1)]))\n",
    "traindf = filtered_df"
   ]
  },
  {
   "cell_type": "code",
   "execution_count": 408,
   "metadata": {},
   "outputs": [],
   "source": [
    "df = testdf\n",
    "lengths = []\n",
    "int_label = []\n",
    "for q, s, l in zip(df['sentence1'].values, df['sentence1'].values, df['label'].values):\n",
    "    l1 = len(q.split(' '))\n",
    "    l2 = len(s.split(' '))\n",
    "    i_label = 0 if l == 'not_entailment' else 1\n",
    "    assert l in ['not_entailment', 'entailment'], \"Value {} not found\".format(l)\n",
    "    lengths.append(l1+l2)\n",
    "    int_label.append(i_label)"
   ]
  },
  {
   "cell_type": "code",
   "execution_count": 409,
   "metadata": {},
   "outputs": [],
   "source": [
    "length_df = pd.DataFrame({'file_length': lengths,\n",
    "                          'targets': int_label})\n",
    "df = pd.concat([df, length_df], axis=1)"
   ]
  },
  {
   "cell_type": "code",
   "execution_count": 410,
   "metadata": {},
   "outputs": [
    {
     "data": {
      "text/html": [
       "<div>\n",
       "<style scoped>\n",
       "    .dataframe tbody tr th:only-of-type {\n",
       "        vertical-align: middle;\n",
       "    }\n",
       "\n",
       "    .dataframe tbody tr th {\n",
       "        vertical-align: top;\n",
       "    }\n",
       "\n",
       "    .dataframe thead th {\n",
       "        text-align: right;\n",
       "    }\n",
       "</style>\n",
       "<table border=\"1\" class=\"dataframe\">\n",
       "  <thead>\n",
       "    <tr style=\"text-align: right;\">\n",
       "      <th></th>\n",
       "      <th>index</th>\n",
       "      <th>sentence1</th>\n",
       "      <th>sentence2</th>\n",
       "      <th>label</th>\n",
       "      <th>file_length</th>\n",
       "      <th>targets</th>\n",
       "    </tr>\n",
       "  </thead>\n",
       "  <tbody>\n",
       "    <tr>\n",
       "      <th>0</th>\n",
       "      <td>0</td>\n",
       "      <td>Dana Reeve, the widow of the actor Christopher...</td>\n",
       "      <td>Christopher Reeve had an accident.</td>\n",
       "      <td>not_entailment</td>\n",
       "      <td>46</td>\n",
       "      <td>0</td>\n",
       "    </tr>\n",
       "    <tr>\n",
       "      <th>1</th>\n",
       "      <td>1</td>\n",
       "      <td>Yet, we now are discovering that antibiotics a...</td>\n",
       "      <td>Bacteria is winning the war against antibiotics.</td>\n",
       "      <td>entailment</td>\n",
       "      <td>62</td>\n",
       "      <td>1</td>\n",
       "    </tr>\n",
       "    <tr>\n",
       "      <th>2</th>\n",
       "      <td>2</td>\n",
       "      <td>Cairo is now home to some 15 million people - ...</td>\n",
       "      <td>15 million tonnes of rubbish are produced dail...</td>\n",
       "      <td>not_entailment</td>\n",
       "      <td>254</td>\n",
       "      <td>0</td>\n",
       "    </tr>\n",
       "    <tr>\n",
       "      <th>3</th>\n",
       "      <td>3</td>\n",
       "      <td>The Amish community in Pennsylvania, which num...</td>\n",
       "      <td>Pennsylvania has the biggest Amish community i...</td>\n",
       "      <td>not_entailment</td>\n",
       "      <td>198</td>\n",
       "      <td>0</td>\n",
       "    </tr>\n",
       "    <tr>\n",
       "      <th>4</th>\n",
       "      <td>4</td>\n",
       "      <td>Security forces were on high alert after an el...</td>\n",
       "      <td>Security forces were on high alert after a cam...</td>\n",
       "      <td>entailment</td>\n",
       "      <td>46</td>\n",
       "      <td>1</td>\n",
       "    </tr>\n",
       "  </tbody>\n",
       "</table>\n",
       "</div>"
      ],
      "text/plain": [
       "   index                                          sentence1  \\\n",
       "0      0  Dana Reeve, the widow of the actor Christopher...   \n",
       "1      1  Yet, we now are discovering that antibiotics a...   \n",
       "2      2  Cairo is now home to some 15 million people - ...   \n",
       "3      3  The Amish community in Pennsylvania, which num...   \n",
       "4      4  Security forces were on high alert after an el...   \n",
       "\n",
       "                                           sentence2           label  \\\n",
       "0                 Christopher Reeve had an accident.  not_entailment   \n",
       "1   Bacteria is winning the war against antibiotics.      entailment   \n",
       "2  15 million tonnes of rubbish are produced dail...  not_entailment   \n",
       "3  Pennsylvania has the biggest Amish community i...  not_entailment   \n",
       "4  Security forces were on high alert after a cam...      entailment   \n",
       "\n",
       "   file_length  targets  \n",
       "0           46        0  \n",
       "1           62        1  \n",
       "2          254        0  \n",
       "3          198        0  \n",
       "4           46        1  "
      ]
     },
     "execution_count": 410,
     "metadata": {},
     "output_type": "execute_result"
    }
   ],
   "source": [
    "df.head()"
   ]
  },
  {
   "cell_type": "code",
   "execution_count": 416,
   "metadata": {},
   "outputs": [
    {
     "data": {
      "text/plain": [
       "328"
      ]
     },
     "execution_count": 416,
     "metadata": {},
     "output_type": "execute_result"
    }
   ],
   "source": [
    "max(df['file_length'].values)"
   ]
  },
  {
   "cell_type": "code",
   "execution_count": 411,
   "metadata": {},
   "outputs": [],
   "source": [
    "name = 'test.csv'\n",
    "df.to_csv(data/name, index=False)"
   ]
  },
  {
   "cell_type": "code",
   "execution_count": 523,
   "metadata": {},
   "outputs": [],
   "source": [
    "class RTELoader(TwoSentenceLoader):\n",
    "    def __init__(self, tokenizer, max_len, device, base=Path('../data/RTE'), size=None):\n",
    "        super().__init__(base, tokenizer, max_len, device, size)    \n",
    "        self.s1_name = 'sentence1'\n",
    "        self.s2_name = 'sentence2'\n",
    "        self.target_name = 'targets'"
   ]
  },
  {
   "cell_type": "code",
   "execution_count": 524,
   "metadata": {},
   "outputs": [
    {
     "name": "stdout",
     "output_type": "stream",
     "text": [
      "Length of (Train, Test) : (2490, 277)\n"
     ]
    }
   ],
   "source": [
    "for x, y, lengths in RTELoader(max_len=100, device=device, tokenizer=tokenizer).batch_iter(batch_size=2, train=True, shuffle=True):\n",
    "    break"
   ]
  },
  {
   "cell_type": "code",
   "execution_count": 525,
   "metadata": {},
   "outputs": [
    {
     "data": {
      "text/plain": [
       "(tensor([[  101,   101],\n",
       "         [ 1996,  1057],\n",
       "         [16807,  1012],\n",
       "         [ 2078,  1055],\n",
       "         [18541,  1012],\n",
       "         [ 2622,  3187],\n",
       "         [ 1038,  1997],\n",
       "         [ 5369,  2110],\n",
       "         [ 2361, 25805],\n",
       "         [ 8681, 10559],\n",
       "         [ 1996,  4143],\n",
       "         [ 2810,  5785],\n",
       "         [ 1997,  2038],\n",
       "         [ 1037,  5228],\n",
       "         [12464,  2014],\n",
       "         [18541,  4963],\n",
       "         [ 5477,  2044],\n",
       "         [ 1996,  1037],\n",
       "         [ 6726,  3116],\n",
       "         [ 1997,  2007],\n",
       "         [ 2049, 25603],\n",
       "         [ 6451,  2343],\n",
       "         [ 1998, 13192],\n",
       "         [ 1996, 13222],\n",
       "         [ 2311,  2632],\n",
       "         [ 1997, 24234],\n",
       "         [ 3141,  4313],\n",
       "         [ 6502,  2076],\n",
       "         [ 2164,  2029],\n",
       "         [ 3229,  2014],\n",
       "         [ 4925, 14895],\n",
       "         [ 1012,  2015],\n",
       "         [  102,  1998],\n",
       "         [ 1037,  3095],\n",
       "         [18541,  2020],\n",
       "         [ 2622, 11094],\n",
       "         [ 2003, 29313],\n",
       "         [ 3818,  2094],\n",
       "         [ 2030,  2011],\n",
       "         [ 2003, 25603],\n",
       "         [ 2104,  3036],\n",
       "         [ 2810,  6074],\n",
       "         [ 1012,  1012],\n",
       "         [    0,   102],\n",
       "         [    0, 25805],\n",
       "         [    0, 10559],\n",
       "         [    0, 20715],\n",
       "         [    0,  5785],\n",
       "         [    0,  2003],\n",
       "         [    0,  1996],\n",
       "         [    0,  1057],\n",
       "         [    0,  1012],\n",
       "         [    0,  1055],\n",
       "         [    0,  1012],\n",
       "         [    0,  3187],\n",
       "         [    0,  1997],\n",
       "         [    0,  2110],\n",
       "         [    0,  1012]]), tensor([[0, 1],\n",
       "         [0, 1]]), [43, 58])"
      ]
     },
     "execution_count": 525,
     "metadata": {},
     "output_type": "execute_result"
    }
   ],
   "source": [
    "x, y, lengths"
   ]
  },
  {
   "cell_type": "code",
   "execution_count": 526,
   "metadata": {},
   "outputs": [
    {
     "data": {
      "text/plain": [
       "'[CLS] the baku ##n hydroelectric project b ##he ##p comprises the construction of a mw hydroelectric dam the transmission of its electricity and the building of related infrastructure including access roads . [SEP] a hydroelectric project is proposed or is under construction . [PAD] [PAD] [PAD] [PAD] [PAD] [PAD] [PAD] [PAD] [PAD] [PAD] [PAD] [PAD] [PAD] [PAD] [PAD]'"
      ]
     },
     "execution_count": 526,
     "metadata": {},
     "output_type": "execute_result"
    }
   ],
   "source": [
    "\" \".join(tokenizer.convert_ids_to_tokens(x[:, 0].detach().numpy()))"
   ]
  },
  {
   "cell_type": "markdown",
   "metadata": {},
   "source": [
    "# Cola"
   ]
  },
  {
   "cell_type": "code",
   "execution_count": 422,
   "metadata": {},
   "outputs": [],
   "source": [
    "data = base/'cola_public/raw'"
   ]
  },
  {
   "cell_type": "code",
   "execution_count": 432,
   "metadata": {},
   "outputs": [],
   "source": [
    "traindf = pd.read_csv(data/'in_domain_train.tsv', delimiter='\\t', encoding='utf-8', error_bad_lines=False, header=None)\n",
    "traindf.columns = ['sentence_source', 'label', 'author_judged', 'sentence']\n",
    "testdf = pd.read_csv(data/'out_of_domain_dev.tsv', delimiter='\\t', encoding='utf-8', error_bad_lines=False, header=None)\n",
    "testdf.columns = ['sentence_source', 'label', 'author_judged', 'sentence']"
   ]
  },
  {
   "cell_type": "code",
   "execution_count": 433,
   "metadata": {},
   "outputs": [
    {
     "data": {
      "text/plain": [
       "(6024, 8551)"
      ]
     },
     "execution_count": 433,
     "metadata": {},
     "output_type": "execute_result"
    }
   ],
   "source": [
    "len(traindf[traindf.isnull().any(axis=1)]), len(traindf)"
   ]
  },
  {
   "cell_type": "code",
   "execution_count": 434,
   "metadata": {},
   "outputs": [
    {
     "data": {
      "text/plain": [
       "(353, 516)"
      ]
     },
     "execution_count": 434,
     "metadata": {},
     "output_type": "execute_result"
    }
   ],
   "source": [
    "len(testdf[testdf.isnull().any(axis=1)]), len(testdf)"
   ]
  },
  {
   "cell_type": "code",
   "execution_count": 437,
   "metadata": {},
   "outputs": [
    {
     "data": {
      "text/html": [
       "<div>\n",
       "<style scoped>\n",
       "    .dataframe tbody tr th:only-of-type {\n",
       "        vertical-align: middle;\n",
       "    }\n",
       "\n",
       "    .dataframe tbody tr th {\n",
       "        vertical-align: top;\n",
       "    }\n",
       "\n",
       "    .dataframe thead th {\n",
       "        text-align: right;\n",
       "    }\n",
       "</style>\n",
       "<table border=\"1\" class=\"dataframe\">\n",
       "  <thead>\n",
       "    <tr style=\"text-align: right;\">\n",
       "      <th></th>\n",
       "      <th>sentence_source</th>\n",
       "      <th>label</th>\n",
       "      <th>author_judged</th>\n",
       "      <th>sentence</th>\n",
       "    </tr>\n",
       "  </thead>\n",
       "  <tbody>\n",
       "    <tr>\n",
       "      <th>0</th>\n",
       "      <td>gj04</td>\n",
       "      <td>1</td>\n",
       "      <td>NaN</td>\n",
       "      <td>Our friends won't buy this analysis, let alone...</td>\n",
       "    </tr>\n",
       "    <tr>\n",
       "      <th>1</th>\n",
       "      <td>gj04</td>\n",
       "      <td>1</td>\n",
       "      <td>NaN</td>\n",
       "      <td>One more pseudo generalization and I'm giving up.</td>\n",
       "    </tr>\n",
       "    <tr>\n",
       "      <th>2</th>\n",
       "      <td>gj04</td>\n",
       "      <td>1</td>\n",
       "      <td>NaN</td>\n",
       "      <td>One more pseudo generalization or I'm giving up.</td>\n",
       "    </tr>\n",
       "    <tr>\n",
       "      <th>3</th>\n",
       "      <td>gj04</td>\n",
       "      <td>1</td>\n",
       "      <td>NaN</td>\n",
       "      <td>The more we study verbs, the crazier they get.</td>\n",
       "    </tr>\n",
       "    <tr>\n",
       "      <th>4</th>\n",
       "      <td>gj04</td>\n",
       "      <td>1</td>\n",
       "      <td>NaN</td>\n",
       "      <td>Day by day the facts are getting murkier.</td>\n",
       "    </tr>\n",
       "  </tbody>\n",
       "</table>\n",
       "</div>"
      ],
      "text/plain": [
       "  sentence_source  label author_judged  \\\n",
       "0            gj04      1           NaN   \n",
       "1            gj04      1           NaN   \n",
       "2            gj04      1           NaN   \n",
       "3            gj04      1           NaN   \n",
       "4            gj04      1           NaN   \n",
       "\n",
       "                                            sentence  \n",
       "0  Our friends won't buy this analysis, let alone...  \n",
       "1  One more pseudo generalization and I'm giving up.  \n",
       "2   One more pseudo generalization or I'm giving up.  \n",
       "3     The more we study verbs, the crazier they get.  \n",
       "4          Day by day the facts are getting murkier.  "
      ]
     },
     "execution_count": 437,
     "metadata": {},
     "output_type": "execute_result"
    }
   ],
   "source": [
    "# Column 1:\tthe code representing the source of the sentence.\n",
    "# Column 2:\tthe acceptability judgment label (0=unacceptable, 1=acceptable).\n",
    "# Column 3:\tthe acceptability judgment as originally notated by the author. \n",
    "# Column 4:\tthe sentence.\n",
    "traindf.head()"
   ]
  },
  {
   "cell_type": "code",
   "execution_count": 436,
   "metadata": {},
   "outputs": [
    {
     "data": {
      "text/html": [
       "<div>\n",
       "<style scoped>\n",
       "    .dataframe tbody tr th:only-of-type {\n",
       "        vertical-align: middle;\n",
       "    }\n",
       "\n",
       "    .dataframe tbody tr th {\n",
       "        vertical-align: top;\n",
       "    }\n",
       "\n",
       "    .dataframe thead th {\n",
       "        text-align: right;\n",
       "    }\n",
       "</style>\n",
       "<table border=\"1\" class=\"dataframe\">\n",
       "  <thead>\n",
       "    <tr style=\"text-align: right;\">\n",
       "      <th></th>\n",
       "      <th>sentence_source</th>\n",
       "      <th>label</th>\n",
       "      <th>author_judged</th>\n",
       "      <th>sentence</th>\n",
       "    </tr>\n",
       "  </thead>\n",
       "  <tbody>\n",
       "    <tr>\n",
       "      <th>0</th>\n",
       "      <td>clc95</td>\n",
       "      <td>1</td>\n",
       "      <td>NaN</td>\n",
       "      <td>Somebody just left - guess who.</td>\n",
       "    </tr>\n",
       "    <tr>\n",
       "      <th>1</th>\n",
       "      <td>clc95</td>\n",
       "      <td>1</td>\n",
       "      <td>NaN</td>\n",
       "      <td>They claimed they had settled on something, bu...</td>\n",
       "    </tr>\n",
       "    <tr>\n",
       "      <th>2</th>\n",
       "      <td>clc95</td>\n",
       "      <td>1</td>\n",
       "      <td>NaN</td>\n",
       "      <td>If Sam was going, Sally would know where.</td>\n",
       "    </tr>\n",
       "    <tr>\n",
       "      <th>3</th>\n",
       "      <td>clc95</td>\n",
       "      <td>1</td>\n",
       "      <td>NaN</td>\n",
       "      <td>They're going to serve the guests something, b...</td>\n",
       "    </tr>\n",
       "    <tr>\n",
       "      <th>4</th>\n",
       "      <td>clc95</td>\n",
       "      <td>1</td>\n",
       "      <td>NaN</td>\n",
       "      <td>She's reading. I can't imagine what.</td>\n",
       "    </tr>\n",
       "  </tbody>\n",
       "</table>\n",
       "</div>"
      ],
      "text/plain": [
       "  sentence_source  label author_judged  \\\n",
       "0           clc95      1           NaN   \n",
       "1           clc95      1           NaN   \n",
       "2           clc95      1           NaN   \n",
       "3           clc95      1           NaN   \n",
       "4           clc95      1           NaN   \n",
       "\n",
       "                                            sentence  \n",
       "0                    Somebody just left - guess who.  \n",
       "1  They claimed they had settled on something, bu...  \n",
       "2          If Sam was going, Sally would know where.  \n",
       "3  They're going to serve the guests something, b...  \n",
       "4               She's reading. I can't imagine what.  "
      ]
     },
     "execution_count": 436,
     "metadata": {},
     "output_type": "execute_result"
    }
   ],
   "source": [
    "testdf.head()"
   ]
  },
  {
   "cell_type": "code",
   "execution_count": 446,
   "metadata": {},
   "outputs": [],
   "source": [
    "df = testdf\n",
    "lengths = []\n",
    "for q in df['sentence'].values:\n",
    "    lengths.append(len(q.split(' ')))"
   ]
  },
  {
   "cell_type": "code",
   "execution_count": 447,
   "metadata": {},
   "outputs": [],
   "source": [
    "length_df = pd.DataFrame({'file_length': lengths})\n",
    "df = pd.concat([df, length_df], axis=1)"
   ]
  },
  {
   "cell_type": "code",
   "execution_count": 448,
   "metadata": {},
   "outputs": [
    {
     "data": {
      "text/html": [
       "<div>\n",
       "<style scoped>\n",
       "    .dataframe tbody tr th:only-of-type {\n",
       "        vertical-align: middle;\n",
       "    }\n",
       "\n",
       "    .dataframe tbody tr th {\n",
       "        vertical-align: top;\n",
       "    }\n",
       "\n",
       "    .dataframe thead th {\n",
       "        text-align: right;\n",
       "    }\n",
       "</style>\n",
       "<table border=\"1\" class=\"dataframe\">\n",
       "  <thead>\n",
       "    <tr style=\"text-align: right;\">\n",
       "      <th></th>\n",
       "      <th>sentence_source</th>\n",
       "      <th>label</th>\n",
       "      <th>author_judged</th>\n",
       "      <th>sentence</th>\n",
       "      <th>file_length</th>\n",
       "    </tr>\n",
       "  </thead>\n",
       "  <tbody>\n",
       "    <tr>\n",
       "      <th>0</th>\n",
       "      <td>clc95</td>\n",
       "      <td>1</td>\n",
       "      <td>NaN</td>\n",
       "      <td>Somebody just left - guess who.</td>\n",
       "      <td>6</td>\n",
       "    </tr>\n",
       "    <tr>\n",
       "      <th>1</th>\n",
       "      <td>clc95</td>\n",
       "      <td>1</td>\n",
       "      <td>NaN</td>\n",
       "      <td>They claimed they had settled on something, bu...</td>\n",
       "      <td>16</td>\n",
       "    </tr>\n",
       "    <tr>\n",
       "      <th>2</th>\n",
       "      <td>clc95</td>\n",
       "      <td>1</td>\n",
       "      <td>NaN</td>\n",
       "      <td>If Sam was going, Sally would know where.</td>\n",
       "      <td>8</td>\n",
       "    </tr>\n",
       "    <tr>\n",
       "      <th>3</th>\n",
       "      <td>clc95</td>\n",
       "      <td>1</td>\n",
       "      <td>NaN</td>\n",
       "      <td>They're going to serve the guests something, b...</td>\n",
       "      <td>11</td>\n",
       "    </tr>\n",
       "    <tr>\n",
       "      <th>4</th>\n",
       "      <td>clc95</td>\n",
       "      <td>1</td>\n",
       "      <td>NaN</td>\n",
       "      <td>She's reading. I can't imagine what.</td>\n",
       "      <td>6</td>\n",
       "    </tr>\n",
       "  </tbody>\n",
       "</table>\n",
       "</div>"
      ],
      "text/plain": [
       "  sentence_source  label author_judged  \\\n",
       "0           clc95      1           NaN   \n",
       "1           clc95      1           NaN   \n",
       "2           clc95      1           NaN   \n",
       "3           clc95      1           NaN   \n",
       "4           clc95      1           NaN   \n",
       "\n",
       "                                            sentence  file_length  \n",
       "0                    Somebody just left - guess who.            6  \n",
       "1  They claimed they had settled on something, bu...           16  \n",
       "2          If Sam was going, Sally would know where.            8  \n",
       "3  They're going to serve the guests something, b...           11  \n",
       "4               She's reading. I can't imagine what.            6  "
      ]
     },
     "execution_count": 448,
     "metadata": {},
     "output_type": "execute_result"
    }
   ],
   "source": [
    "df.head()"
   ]
  },
  {
   "cell_type": "code",
   "execution_count": 449,
   "metadata": {},
   "outputs": [],
   "source": [
    "name = 'test.csv'\n",
    "df.to_csv(data/name, index=False)"
   ]
  },
  {
   "cell_type": "code",
   "execution_count": 13,
   "metadata": {},
   "outputs": [],
   "source": [
    "class SingleSentenceLoader(BatchLoader):\n",
    "    def __init__(self, base, tokenizer, max_len, device, size=None):\n",
    "        super().__init__(base, tokenizer, max_len, device, size)\n",
    "        self.number_classes = 2\n",
    "        \n",
    "    def tokenize(self, sentences):\n",
    "        bert_tokens = [['[CLS]'] + self.tokenizer.tokenize(s) for s in sentences]\n",
    "        return BERT_tokenize_tokens(self.tokenizer, bert_tokens, self.max_len)"
   ]
  },
  {
   "cell_type": "code",
   "execution_count": 14,
   "metadata": {},
   "outputs": [],
   "source": [
    "class COLALoader(SingleSentenceLoader):\n",
    "    def __init__(self, tokenizer, max_len, device, base=Path('../data/cola_public/raw'), size=None):\n",
    "        super().__init__(base, tokenizer, max_len, device, size)\n",
    "        \n",
    "    def prepare(self, df):\n",
    "        results = list(zip(df['sentence'].values, df['label'].values))\n",
    "        sents, targets = [e[0] for e in results], [e[1] for e in results]\n",
    "        return sents, targets"
   ]
  },
  {
   "cell_type": "code",
   "execution_count": 15,
   "metadata": {},
   "outputs": [
    {
     "name": "stdout",
     "output_type": "stream",
     "text": [
      "Length of (Train, Test) : (8551, 516)\n"
     ]
    }
   ],
   "source": [
    "for x, y, lengths in COLALoader(max_len=10, device=device, tokenizer=tokenizer).batch_iter(batch_size=2, train=True, shuffle=True):\n",
    "    break"
   ]
  },
  {
   "cell_type": "code",
   "execution_count": 16,
   "metadata": {},
   "outputs": [
    {
     "data": {
      "text/plain": [
       "(tensor([[  101,   101],\n",
       "         [ 1996,  1045],\n",
       "         [ 2775,  4687],\n",
       "         [ 1998,  2054],\n",
       "         [ 2014,  2103],\n",
       "         [ 2388,  2008],\n",
       "         [14752, 10900],\n",
       "         [ 1012,  3908],\n",
       "         [    0,  1012]]), tensor([1, 1]), [8, 9])"
      ]
     },
     "execution_count": 16,
     "metadata": {},
     "output_type": "execute_result"
    }
   ],
   "source": [
    "x, y, lengths"
   ]
  },
  {
   "cell_type": "code",
   "execution_count": 530,
   "metadata": {},
   "outputs": [
    {
     "data": {
      "text/plain": [
       "torch.Size([10, 2])"
      ]
     },
     "execution_count": 530,
     "metadata": {},
     "output_type": "execute_result"
    }
   ],
   "source": [
    "x.shape"
   ]
  },
  {
   "cell_type": "code",
   "execution_count": 531,
   "metadata": {},
   "outputs": [
    {
     "data": {
      "text/plain": [
       "'[CLS] smith was anne ##aling . [PAD] [PAD] [PAD] [PAD]'"
      ]
     },
     "execution_count": 531,
     "metadata": {},
     "output_type": "execute_result"
    }
   ],
   "source": [
    "\" \".join(tokenizer.convert_ids_to_tokens(x[:, 0].detach().numpy()))"
   ]
  },
  {
   "cell_type": "code",
   "execution_count": 532,
   "metadata": {},
   "outputs": [
    {
     "data": {
      "text/plain": [
       "'[CLS] all special rights of voting in the election were'"
      ]
     },
     "execution_count": 532,
     "metadata": {},
     "output_type": "execute_result"
    }
   ],
   "source": [
    "\" \".join(tokenizer.convert_ids_to_tokens(x[:, 1].detach().numpy()))"
   ]
  },
  {
   "cell_type": "code",
   "execution_count": null,
   "metadata": {},
   "outputs": [],
   "source": []
  },
  {
   "cell_type": "code",
   "execution_count": null,
   "metadata": {},
   "outputs": [],
   "source": []
  }
 ],
 "metadata": {
  "kernelspec": {
   "display_name": "Python 3",
   "language": "python",
   "name": "python3"
  },
  "language_info": {
   "codemirror_mode": {
    "name": "ipython",
    "version": 3
   },
   "file_extension": ".py",
   "mimetype": "text/x-python",
   "name": "python",
   "nbconvert_exporter": "python",
   "pygments_lexer": "ipython3",
   "version": "3.7.3"
  }
 },
 "nbformat": 4,
 "nbformat_minor": 2
}
