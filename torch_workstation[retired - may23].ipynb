{
 "cells": [
  {
   "cell_type": "code",
   "execution_count": 1,
   "metadata": {},
   "outputs": [],
   "source": [
    "# for auto-reloading external modules\n",
    "# see http://stackoverflow.com/questions/1907993/autoreload-of-modules-in-ipython\n",
    "%load_ext autoreload\n",
    "%autoreload 2"
   ]
  },
  {
   "cell_type": "code",
   "execution_count": 23,
   "metadata": {},
   "outputs": [],
   "source": [
    "import sys\n",
    "import math\n",
    "import torch\n",
    "import time\n",
    "\n",
    "import pandas as pd\n",
    "import numpy as np\n",
    "import torch.nn as nn\n",
    "\n",
    "from tqdm import tqdm\n",
    "from torch import optim\n",
    "from pathlib import Path\n",
    "from docopt import docopt\n",
    "\n",
    "from model import *\n",
    "from utils import prepare_df\n",
    "from language_structure import load_model, Lang\n",
    "\n",
    "base = Path('../aclImdb')\n",
    "device = torch.device(\"cuda\" if torch.cuda.is_available() else \"cpu\")"
   ]
  },
  {
   "cell_type": "code",
   "execution_count": 4,
   "metadata": {},
   "outputs": [],
   "source": [
    "# Data\n",
    "df = pd.read_csv('train.csv')\n",
    "lang = load_model()\n",
    "\n",
    "# Model\n",
    "hidden_size = 20\n",
    "embed_size = 300\n",
    "model = SentModel(embed_size, hidden_size, lang, device)\n",
    "model = model.to(device)\n",
    "\n",
    "lr = 1e-3\n",
    "clip_grad = 5.\n",
    "optimizer = torch.optim.Adam(model.parameters())\n",
    "loss_fcn = nn.BCELoss()"
   ]
  },
  {
   "cell_type": "markdown",
   "metadata": {},
   "source": [
    "# Structure Test Data "
   ]
  },
  {
   "cell_type": "code",
   "execution_count": 6,
   "metadata": {},
   "outputs": [],
   "source": [
    "from init import extract_helper"
   ]
  },
  {
   "cell_type": "code",
   "execution_count": 7,
   "metadata": {},
   "outputs": [],
   "source": [
    "neg_exs, neg_labels, neg_ratings = extract_helper('test/neg/', 0)\n",
    "pos_exs, pos_labels, pos_ratings = extract_helper('test/pos/', 1)"
   ]
  },
  {
   "cell_type": "code",
   "execution_count": 54,
   "metadata": {},
   "outputs": [],
   "source": [
    "test_df = pd.DataFrame(data={'path': neg_exs + pos_exs,\n",
    "                        'target': neg_labels + pos_labels,\n",
    "                        'review_rating': neg_ratings + pos_ratings})\n",
    "test_df = test_df.sample(frac=1.)\n",
    "test_df.to_csv('test.csv', index=False)"
   ]
  },
  {
   "cell_type": "markdown",
   "metadata": {},
   "source": [
    "# Predictions + Accuracy "
   ]
  },
  {
   "cell_type": "code",
   "execution_count": 1,
   "metadata": {},
   "outputs": [],
   "source": [
    "from train import batch_iter"
   ]
  },
  {
   "cell_type": "code",
   "execution_count": 2,
   "metadata": {},
   "outputs": [
    {
     "ename": "NameError",
     "evalue": "name 'pd' is not defined",
     "output_type": "error",
     "traceback": [
      "\u001b[0;31m---------------------------------------------------------------------------\u001b[0m",
      "\u001b[0;31mNameError\u001b[0m                                 Traceback (most recent call last)",
      "\u001b[0;32m<ipython-input-2-6e5837eb647c>\u001b[0m in \u001b[0;36m<module>\u001b[0;34m\u001b[0m\n\u001b[0;32m----> 1\u001b[0;31m \u001b[0mtest_df\u001b[0m \u001b[0;34m=\u001b[0m \u001b[0mpd\u001b[0m\u001b[0;34m.\u001b[0m\u001b[0mread_csv\u001b[0m\u001b[0;34m(\u001b[0m\u001b[0;34m'test.csv'\u001b[0m\u001b[0;34m)\u001b[0m\u001b[0;34m\u001b[0m\u001b[0;34m\u001b[0m\u001b[0m\n\u001b[0m",
      "\u001b[0;31mNameError\u001b[0m: name 'pd' is not defined"
     ]
    }
   ],
   "source": [
    "test_df = pd.read_csv('test.csv')"
   ]
  },
  {
   "cell_type": "code",
   "execution_count": 56,
   "metadata": {},
   "outputs": [
    {
     "data": {
      "text/plain": [
       "(tensor(8.),\n",
       " 10,\n",
       " tensor([0., 0., 0., 1., 0., 0., 0., 0., 0., 0.]),\n",
       " tensor([1., 0., 0., 1., 0., 0., 0., 1., 0., 0.]))"
      ]
     },
     "execution_count": 56,
     "metadata": {},
     "output_type": "execute_result"
    }
   ],
   "source": [
    "threshold = torch.tensor([0.5])\n",
    "n_examples = 0\n",
    "n_correct = 0\n",
    "for sents, targets in batch_iter(lang, test_df[:2000], 10, shuffle=True):\n",
    "    preds = model(sents)\n",
    "    preds = (preds >= threshold).float()\n",
    "    n_correct += torch.eq(preds, targets).sum().float()\n",
    "    n_examples += len(targets)"
   ]
  },
  {
   "cell_type": "code",
   "execution_count": 5,
   "metadata": {},
   "outputs": [
    {
     "ename": "NameError",
     "evalue": "name 'ex' is not defined",
     "output_type": "error",
     "traceback": [
      "\u001b[0;31m---------------------------------------------------------------------------\u001b[0m",
      "\u001b[0;31mNameError\u001b[0m                                 Traceback (most recent call last)",
      "\u001b[0;32m<ipython-input-5-322aa5677a0a>\u001b[0m in \u001b[0;36m<module>\u001b[0;34m\u001b[0m\n\u001b[0;32m----> 1\u001b[0;31m \u001b[0mmodel\u001b[0m\u001b[0;34m(\u001b[0m\u001b[0mex\u001b[0m\u001b[0;34m)\u001b[0m\u001b[0;34m\u001b[0m\u001b[0;34m\u001b[0m\u001b[0m\n\u001b[0m",
      "\u001b[0;31mNameError\u001b[0m: name 'ex' is not defined"
     ]
    }
   ],
   "source": [
    "model(ex)"
   ]
  },
  {
   "cell_type": "code",
   "execution_count": 6,
   "metadata": {},
   "outputs": [
    {
     "data": {
      "text/plain": [
       "tensor([0.5000, 0.2000, 0.2000])"
      ]
     },
     "execution_count": 6,
     "metadata": {},
     "output_type": "execute_result"
    }
   ],
   "source": [
    "test = torch.tensor([0.5, 0.2, 0.2])\n",
    "test"
   ]
  },
  {
   "cell_type": "code",
   "execution_count": 7,
   "metadata": {},
   "outputs": [
    {
     "data": {
      "text/plain": [
       "tensor([0.5000])"
      ]
     },
     "execution_count": 7,
     "metadata": {},
     "output_type": "execute_result"
    }
   ],
   "source": [
    "t = torch.tensor([0.5])\n",
    "t"
   ]
  },
  {
   "cell_type": "code",
   "execution_count": 8,
   "metadata": {},
   "outputs": [
    {
     "data": {
      "text/plain": [
       "tensor([1., 0., 0.])"
      ]
     },
     "execution_count": 8,
     "metadata": {},
     "output_type": "execute_result"
    }
   ],
   "source": [
    "preds_rounded = (test >= t).float()\n",
    "preds_rounded"
   ]
  },
  {
   "cell_type": "code",
   "execution_count": 9,
   "metadata": {},
   "outputs": [
    {
     "data": {
      "text/plain": [
       "tensor([1., 0., 1.])"
      ]
     },
     "execution_count": 9,
     "metadata": {},
     "output_type": "execute_result"
    }
   ],
   "source": [
    "true = torch.tensor([1, 0, 1]).float()\n",
    "true"
   ]
  },
  {
   "cell_type": "code",
   "execution_count": 14,
   "metadata": {},
   "outputs": [
    {
     "data": {
      "text/plain": [
       "tensor(0.6667)"
      ]
     },
     "execution_count": 14,
     "metadata": {},
     "output_type": "execute_result"
    }
   ],
   "source": [
    "(1 - torch.abs(preds_rounded - true)).sum() / len(true)"
   ]
  },
  {
   "cell_type": "code",
   "execution_count": 16,
   "metadata": {},
   "outputs": [
    {
     "data": {
      "text/plain": [
       "tensor(0.6667)"
      ]
     },
     "execution_count": 16,
     "metadata": {},
     "output_type": "execute_result"
    }
   ],
   "source": [
    "torch.eq(preds_rounded, true).sum().float() / len(true) "
   ]
  },
  {
   "cell_type": "code",
   "execution_count": 40,
   "metadata": {},
   "outputs": [
    {
     "data": {
      "text/plain": [
       "3"
      ]
     },
     "execution_count": 40,
     "metadata": {},
     "output_type": "execute_result"
    }
   ],
   "source": [
    "len(true)"
   ]
  },
  {
   "cell_type": "code",
   "execution_count": null,
   "metadata": {},
   "outputs": [],
   "source": [
    "def validate():\n",
    "    threshold = torch.tensor([0.5])\n",
    "    n_examples = 0\n",
    "    n_correct = 0\n",
    "    for sents, targets in batch_iter(lang, test_df[:2000], 10, shuffle=True):\n",
    "        preds = model(sents)\n",
    "        preds = (preds >= threshold).float()\n",
    "        n_correct += (1 - torch.abs(preds - targets)).sum()\n",
    "        n_examples += len(targets)\n",
    "    \n",
    "    return n_correct / n_examples"
   ]
  },
  {
   "cell_type": "code",
   "execution_count": 17,
   "metadata": {},
   "outputs": [],
   "source": [
    "loss = accuracy = val_loss = val_accuracy = []"
   ]
  },
  {
   "cell_type": "code",
   "execution_count": 18,
   "metadata": {},
   "outputs": [],
   "source": [
    "loss.append(1)"
   ]
  },
  {
   "cell_type": "code",
   "execution_count": 19,
   "metadata": {},
   "outputs": [
    {
     "data": {
      "text/plain": [
       "([1], [1], [1], [1])"
      ]
     },
     "execution_count": 19,
     "metadata": {},
     "output_type": "execute_result"
    }
   ],
   "source": [
    "loss, accuracy, val_loss, val_accuracy "
   ]
  },
  {
   "cell_type": "code",
   "execution_count": 20,
   "metadata": {},
   "outputs": [],
   "source": [
    "loss = accuracy = val_loss = val_accuracy = 0"
   ]
  },
  {
   "cell_type": "code",
   "execution_count": 21,
   "metadata": {},
   "outputs": [],
   "source": [
    "loss += 1"
   ]
  },
  {
   "cell_type": "code",
   "execution_count": 22,
   "metadata": {},
   "outputs": [
    {
     "data": {
      "text/plain": [
       "(1, 0, 0, 0)"
      ]
     },
     "execution_count": 22,
     "metadata": {},
     "output_type": "execute_result"
    }
   ],
   "source": [
    "loss, accuracy, val_loss, val_accuracy "
   ]
  },
  {
   "cell_type": "markdown",
   "metadata": {},
   "source": [
    "# Metrics"
   ]
  },
  {
   "cell_type": "code",
   "execution_count": 56,
   "metadata": {},
   "outputs": [],
   "source": [
    "import pandas as pd\n",
    "import matplotlib.pyplot as plt"
   ]
  },
  {
   "cell_type": "code",
   "execution_count": 57,
   "metadata": {},
   "outputs": [],
   "source": [
    "model_save_path = 'model.bin'"
   ]
  },
  {
   "cell_type": "code",
   "execution_count": 60,
   "metadata": {},
   "outputs": [
    {
     "name": "stdout",
     "output_type": "stream",
     "text": [
      "Total Time: 4.1538 \n",
      "Train Time: 3.587\n"
     ]
    },
    {
     "data": {
      "image/png": "[encoded data removed]",
      "text/plain": [
       "<Figure size 720x720 with 2 Axes>"
      ]
     },
     "metadata": {
      "needs_background": "light"
     },
     "output_type": "display_data"
    }
   ],
   "source": [
    "metrics = torch.load('metric_saves/' + model_save_path + '.metrics')\n",
    "\n",
    "def plot_metrics(metrics):\n",
    "    print(\"Total Time: {} \\nTrain Time: {}\".format(metrics['total_time'], metrics['train_time']))\n",
    "    metrics = pd.DataFrame(metrics)\n",
    "    metrics['itr'] = list(range(len(metrics['train_loss'])))\n",
    "    \n",
    "    f, (ax1, ax2) = plt.subplots(1, 2, figsize=(10, 10))\n",
    "    \n",
    "    # plot loss \n",
    "    ax1.plot('itr', 'train_loss', data=metrics)\n",
    "    ax1.plot('itr', 'val_loss', data=metrics)\n",
    "    ax1.legend()\n",
    "    ax1.set_xlabel('Training Iteration')\n",
    "    ax1.set_ylabel('Loss')\n",
    "    ax1.set_title('Model Loss')\n",
    "    \n",
    "    # plot accuracy\n",
    "    ax2.plot('itr', 'train_acc', data=metrics)\n",
    "    ax2.plot('itr', 'val_acc', data=metrics)\n",
    "    ax2.legend()\n",
    "    ax2.set_xlabel('Training Iteration')\n",
    "    ax2.set_ylabel('Accuracy')\n",
    "    ax2.set_title('Model Accuracy')\n",
    "    \n",
    "    plt.plot()\n",
    "\n",
    "plot_metrics(metrics)"
   ]
  },
  {
   "cell_type": "markdown",
   "metadata": {},
   "source": [
    "# Testing Types of Tokenization"
   ]
  },
  {
   "cell_type": "code",
   "execution_count": 1,
   "metadata": {},
   "outputs": [],
   "source": [
    "from bert.tokenization import WordpieceTokenizer, FullTokenizer\n",
    "import os"
   ]
  },
  {
   "cell_type": "code",
   "execution_count": 50,
   "metadata": {},
   "outputs": [],
   "source": [
    "vocab_file = 'vocab.txt'\n",
    "with open(vocab_file, 'r') as f:\n",
    "    vocab_tokens = f.read().split('\\n')\n",
    "\n",
    "vocab = {}\n",
    "for (i, token) in enumerate(vocab_tokens):\n",
    "    vocab[token] = i"
   ]
  },
  {
   "cell_type": "code",
   "execution_count": 56,
   "metadata": {},
   "outputs": [],
   "source": [
    "tokenizer = FullTokenizer(vocab_file, do_lower_case=True)"
   ]
  },
  {
   "cell_type": "code",
   "execution_count": 59,
   "metadata": {},
   "outputs": [
    {
     "data": {
      "text/plain": [
       "['john', 'johan', '##son', \"'\", 's', 'house']"
      ]
     },
     "execution_count": 59,
     "metadata": {},
     "output_type": "execute_result"
    }
   ],
   "source": [
    "tokenizer.tokenize(' '.join([\"John\", \"Johanson\", \"'s\",  \"house\"]))"
   ]
  },
  {
   "cell_type": "code",
   "execution_count": 60,
   "metadata": {},
   "outputs": [
    {
     "data": {
      "text/plain": [
       "['unwanted', 'running']"
      ]
     },
     "execution_count": 60,
     "metadata": {},
     "output_type": "execute_result"
    }
   ],
   "source": [
    "tokenizer.tokenize(\"unwanted running\")"
   ]
  },
  {
   "cell_type": "markdown",
   "metadata": {},
   "source": [
    "Tokenizer 2 below..."
   ]
  },
  {
   "cell_type": "code",
   "execution_count": 17,
   "metadata": {},
   "outputs": [],
   "source": [
    "vocab_tokens = [\n",
    "    \"[UNK]\", \"[CLS]\", \"[SEP]\", \"want\", \"##want\", \"##ed\", \"wa\", \"un\", \"runn\", \"##ing\"\n",
    "]\n",
    "\n",
    "vocab = {}\n",
    "for (i, token) in enumerate(vocab_tokens):\n",
    "    vocab[token] = i"
   ]
  },
  {
   "cell_type": "code",
   "execution_count": 32,
   "metadata": {},
   "outputs": [
    {
     "data": {
      "text/plain": [
       "['un', '##want', '##ed', 'runn', '##ing']"
      ]
     },
     "execution_count": 32,
     "metadata": {},
     "output_type": "execute_result"
    }
   ],
   "source": [
    "tokenizer = WordpieceTokenizer(vocab)\n",
    "tokenizer.tokenize(\"unwanted running\")"
   ]
  },
  {
   "cell_type": "code",
   "execution_count": 62,
   "metadata": {},
   "outputs": [
    {
     "name": "stdout",
     "output_type": "stream",
     "text": [
      "construct\n",
      "['con', 'struct']\n",
      "- prefixes: ['con']\n",
      "- root: 'struct'\n",
      "['con']\n",
      "struct\n",
      "\n"
     ]
    }
   ],
   "source": [
    "wordlist = ['construct','destructer','constructs','deconstructs']\n",
    "\n",
    "from pyparsing import StringEnd, oneOf, FollowedBy, Optional, ZeroOrMore, SkipTo\n",
    "\n",
    "endOfString = StringEnd()\n",
    "prefix = oneOf(\"de con\")\n",
    "suffix = oneOf(\"er s\") + FollowedBy(endOfString)\n",
    "\n",
    "word = (ZeroOrMore(prefix)(\"prefixes\") + \n",
    "        SkipTo(suffix | endOfString)(\"root\") + \n",
    "        Optional(suffix)(\"suffix\"))\n",
    "\n",
    "for wd in wordlist[:1]:\n",
    "    print(wd)\n",
    "    res = word.parseString(wd)\n",
    "    print(res.dump())\n",
    "    print(res.prefixes)\n",
    "    print(res.root)\n",
    "    print(res.suffix)"
   ]
  },
  {
   "cell_type": "code",
   "execution_count": 2,
   "metadata": {},
   "outputs": [],
   "source": [
    "import spacy"
   ]
  },
  {
   "cell_type": "code",
   "execution_count": 3,
   "metadata": {},
   "outputs": [
    {
     "data": {
      "text/plain": [
       "['un', 'nw', 'wa', 'an', 'nt', 'te', 'ed', 'd']"
      ]
     },
     "execution_count": 3,
     "metadata": {},
     "output_type": "execute_result"
    }
   ],
   "source": [
    "token = 'unwanted'\n",
    "n = 2\n",
    "ngram_word = [token[i:i+n] for i in range(len(token))]\n",
    "ngram_word"
   ]
  },
  {
   "cell_type": "code",
   "execution_count": 6,
   "metadata": {},
   "outputs": [],
   "source": [
    "nlp = spacy.load('en_core_web_sm', parse=True, tag=True, entity=True)"
   ]
  },
  {
   "cell_type": "code",
   "execution_count": 7,
   "metadata": {},
   "outputs": [
    {
     "data": {
      "text/plain": [
       "'My system keep crash ! his crashed yesterday , ours crash daily'"
      ]
     },
     "execution_count": 7,
     "metadata": {},
     "output_type": "execute_result"
    }
   ],
   "source": [
    "text = nlp(\"My system keeps crashing! his crashed yesterday, ours crashes daily\")\n",
    "text = ' '.join([word.lemma_ if word.lemma_ != '-PRON-' else word.text for word in text])\n",
    "text"
   ]
  },
  {
   "cell_type": "markdown",
   "metadata": {},
   "source": [
    "# Self Attention Model - Transformer"
   ]
  },
  {
   "cell_type": "code",
   "execution_count": 5,
   "metadata": {},
   "outputs": [],
   "source": [
    "from language_structure import *"
   ]
  },
  {
   "cell_type": "code",
   "execution_count": 21,
   "metadata": {},
   "outputs": [],
   "source": [
    "lang = load_model()"
   ]
  },
  {
   "cell_type": "code",
   "execution_count": 82,
   "metadata": {},
   "outputs": [],
   "source": [
    "import torch\n",
    "import torch.nn as nn\n",
    "import torch.nn.functional as F\n",
    "device = torch.device(\"cuda\" if torch.cuda.is_available() else \"cpu\")"
   ]
  },
  {
   "cell_type": "code",
   "execution_count": 116,
   "metadata": {},
   "outputs": [],
   "source": [
    "# seperate module to make attention analysis easy\n",
    "class TransformerEmbedder(nn.Module):\n",
    "    def __init__(self, embed_dim, num_embed, num_pos, dropout):\n",
    "        super().__init__()\n",
    "        self.token_embeddings = nn.Embedding(num_embed, embed_dim)\n",
    "        # Lazy positional embeddings\n",
    "        self.pos_embeddings = nn.Embedding(num_pos, embed_dim)\n",
    "        self.dropout = nn.Dropout(dropout)\n",
    "    \n",
    "    def forward(self, x, lang, device):\n",
    "        x, _ = to_input_tensor(lang, x, device)\n",
    "        positions = torch.arange(len(x), device=x.device).unsqueeze(-1)\n",
    "        h = self.token_embeddings(x)\n",
    "        h = h + self.pos_embeddings(positions).expand_as(h)\n",
    "        h = self.dropout(h)\n",
    "        \n",
    "        return h, len(x)"
   ]
  },
  {
   "cell_type": "code",
   "execution_count": 117,
   "metadata": {},
   "outputs": [],
   "source": [
    "# Thanks to, \n",
    "# https://twitter.com/Thom_Wolf/status/1129658539142766592\n",
    "# AND using the Transformer as Classifier Thanks To, \n",
    "# https://www.aclweb.org/anthology/W18-5429\n",
    "class TransformerClassifier(nn.Module):\n",
    "    def __init__(self, lang, device, embed_dim, hidden_dim, num_embed, num_pos, num_heads, num_layers, dropout, n_classes):\n",
    "        super().__init__()\n",
    "        self.device = device\n",
    "        self.lang = lang\n",
    "        \n",
    "        self.encoder = TransformerEmbedder(embed_dim, num_embed, num_pos, dropout)\n",
    "        self.dropout = nn.Dropout(dropout)\n",
    "        \n",
    "        self.attentions, self.feed_forwards = nn.ModuleList(), nn.ModuleList()\n",
    "        self.ln_1, self.ln_2 = nn.ModuleList(), nn.ModuleList()\n",
    "        for _ in range(num_layers):\n",
    "            self.attentions.append(nn.MultiheadAttention(embed_dim, num_heads, dropout=dropout))\n",
    "            self.feed_forwards.append(nn.Sequential(nn.Linear(embed_dim, hidden_dim),\n",
    "                                                    nn.ReLU(), \n",
    "                                                    nn.Linear(hidden_dim, embed_dim)))\n",
    "            self.ln_1.append(nn.LayerNorm(embed_dim, eps=1e-12))\n",
    "            self.ln_2.append(nn.LayerNorm(embed_dim, eps=1e-12))\n",
    "        \n",
    "        self.classify = nn.Linear(embed_dim, n_classes)\n",
    "        \n",
    "        # init weights \n",
    "        for p in self.parameters():\n",
    "            if p.dim() > 1:\n",
    "                nn.init.xavier_uniform_(p)\n",
    "        \n",
    "                                      \n",
    "    def forward(self, x):\n",
    "        h, x_len = self.encoder(x, self.lang, self.device)\n",
    "        \n",
    "        # Create masks for attention to only look left \n",
    "        attn_mask = torch.full((x_len, x_len), -float('Inf'), device=h.device, dtype=h.dtype)\n",
    "        attn_mask = torch.triu(attn_mask, diagonal=1)\n",
    "        \n",
    "        # Through the layers we go\n",
    "        for layer_norm1, attention, layer_norm2, feed_forward in zip(self.ln_1, self.attentions,\n",
    "                                                                     self.ln_2, self.feed_forwards):\n",
    "            h = layer_norm1(h)\n",
    "            x, w = attention(h, h, h, attn_mask=attn_mask)\n",
    "            x = self.dropout(x)\n",
    "            h = x + h \n",
    "            \n",
    "            h = layer_norm2(h)\n",
    "            x = feed_forward(h)\n",
    "            x = self.dropout(x)\n",
    "            h = x + h\n",
    "            \n",
    "        # bs, sent_len, embed_dim\n",
    "        h = h.transpose(0, 1)\n",
    "        x, _ = torch.max(h, 1)\n",
    "        y = F.softmax(self.classify(x), dim=-1).squeeze(-1)\n",
    "        \n",
    "        return y"
   ]
  },
  {
   "cell_type": "code",
   "execution_count": 118,
   "metadata": {},
   "outputs": [],
   "source": [
    "num_max_pos = 1000\n",
    "num_embed = lang.n_words\n",
    "model = TransformerClassifier(lang, device, embed_dim=20, hidden_dim=20, num_embed=num_embed, num_pos=num_max_pos, \n",
    "                    num_heads=10, num_layers=3, dropout=0.3, n_classes=1)"
   ]
  },
  {
   "cell_type": "code",
   "execution_count": 21,
   "metadata": {},
   "outputs": [],
   "source": [
    "from train import batch_iter\n",
    "from model import TransformerClassifier"
   ]
  },
  {
   "cell_type": "code",
   "execution_count": 13,
   "metadata": {},
   "outputs": [],
   "source": [
    "train_df = pd.read_csv('train.csv')"
   ]
  },
  {
   "cell_type": "code",
   "execution_count": 185,
   "metadata": {},
   "outputs": [],
   "source": [
    "for sents, targets in batch_iter(lang, train_df, 3, shuffle=True):\n",
    "    x = sents\n",
    "    break"
   ]
  },
  {
   "cell_type": "code",
   "execution_count": 70,
   "metadata": {},
   "outputs": [],
   "source": [
    "from utils import to_input_tensor"
   ]
  },
  {
   "cell_type": "code",
   "execution_count": 187,
   "metadata": {},
   "outputs": [
    {
     "data": {
      "text/plain": [
       "torch.Size([145, 3])"
      ]
     },
     "execution_count": 187,
     "metadata": {},
     "output_type": "execute_result"
    }
   ],
   "source": [
    "ex, lengths = to_input_tensor(lang, x, device)\n",
    "ex.shape"
   ]
  },
  {
   "cell_type": "code",
   "execution_count": 119,
   "metadata": {
    "scrolled": true
   },
   "outputs": [
    {
     "data": {
      "text/plain": [
       "tensor([1., 1., 1., 1., 1., 1., 1., 1., 1., 1., 1., 1., 1., 1., 1., 1., 1., 1.,\n",
       "        1., 1., 1., 1., 1., 1., 1., 1., 1., 1., 1., 1., 1., 1., 1., 1., 1., 1.,\n",
       "        1., 1., 1., 1., 1., 1., 1., 1., 1., 1., 1., 1., 1., 1., 1., 1., 1., 1.,\n",
       "        1., 1., 1., 1., 1., 1., 1., 1., 1., 1., 1., 1., 1., 1., 1., 1., 1., 1.,\n",
       "        1., 1., 1., 1., 1., 1., 1., 1., 1., 1., 1., 1., 1., 1., 1., 1., 1., 1.,\n",
       "        1., 1., 1., 1., 1., 1., 1., 1., 1., 1., 1., 1., 1., 1., 1., 1., 1., 1.,\n",
       "        1., 1., 1., 1., 1., 1., 1., 1., 1., 1., 1., 1., 1., 1., 1., 1., 1., 1.,\n",
       "        1., 1., 1., 1., 1., 1., 1., 1., 1., 1., 1., 1., 1., 1., 1., 1., 1., 1.,\n",
       "        1., 1., 1., 1., 1., 1., 1., 1., 1., 1., 1., 1.],\n",
       "       grad_fn=<SqueezeBackward1>)"
      ]
     },
     "execution_count": 119,
     "metadata": {},
     "output_type": "execute_result"
    }
   ],
   "source": [
    "model(x)"
   ]
  },
  {
   "cell_type": "code",
   "execution_count": 93,
   "metadata": {},
   "outputs": [
    {
     "data": {
      "text/plain": [
       "[639, 128]"
      ]
     },
     "execution_count": 93,
     "metadata": {},
     "output_type": "execute_result"
    }
   ],
   "source": [
    "lengths"
   ]
  },
  {
   "cell_type": "code",
   "execution_count": 144,
   "metadata": {},
   "outputs": [],
   "source": [
    "def clip_sents(sents):\n",
    "    min_seq = min(map(len, sents))\n",
    "    def clip(s):\n",
    "        if len(s) > min_seq:\n",
    "            s = s[:min_seq]\n",
    "        return s\n",
    "    sents_clipped = [clip(s) for s in sents]\n",
    "    return sents_clipped"
   ]
  },
  {
   "cell_type": "code",
   "execution_count": 145,
   "metadata": {},
   "outputs": [
    {
     "name": "stdout",
     "output_type": "stream",
     "text": [
      "137\n",
      "137\n",
      "137\n"
     ]
    }
   ],
   "source": [
    "for i in clip_sents(ex):\n",
    "    print(len(i))"
   ]
  },
  {
   "cell_type": "code",
   "execution_count": 88,
   "metadata": {},
   "outputs": [
    {
     "data": {
      "text/plain": [
       "torch.Size([639, 2, 10])"
      ]
     },
     "execution_count": 88,
     "metadata": {},
     "output_type": "execute_result"
    }
   ],
   "source": [
    "nn.Embedding(lang.n_words, 10)(x).shape"
   ]
  },
  {
   "cell_type": "code",
   "execution_count": 89,
   "metadata": {
    "scrolled": true
   },
   "outputs": [
    {
     "name": "stdout",
     "output_type": "stream",
     "text": [
      "torch.Size([639, 2, 20])\n",
      "torch.Size([639, 2, 20])\n",
      "torch.Size([639, 2, 20])\n",
      "torch.Size([2, 639, 20])\n",
      "torch.Size([2, 20])\n"
     ]
    },
    {
     "data": {
      "text/plain": [
       "torch.Size([2])"
      ]
     },
     "execution_count": 89,
     "metadata": {},
     "output_type": "execute_result"
    }
   ],
   "source": [
    "model(ex).shape"
   ]
  },
  {
   "cell_type": "code",
   "execution_count": 32,
   "metadata": {},
   "outputs": [],
   "source": [
    "# def transformer_attention(model, x, lang, device):\n",
    "#     y = list(model.children())[0](x, lang, device)\n",
    "#     v, w = list(model.children())[2][0](y, y, y)\n",
    "#     return w"
   ]
  },
  {
   "cell_type": "markdown",
   "metadata": {},
   "source": [
    "# Plotting Attention"
   ]
  },
  {
   "cell_type": "code",
   "execution_count": 42,
   "metadata": {},
   "outputs": [],
   "source": [
    "import matplotlib.pyplot as plt\n",
    "import matplotlib.ticker as ticker"
   ]
  },
  {
   "cell_type": "code",
   "execution_count": 206,
   "metadata": {},
   "outputs": [
    {
     "data": {
      "text/plain": [
       "(3, 145, 145)"
      ]
     },
     "execution_count": 206,
     "metadata": {},
     "output_type": "execute_result"
    }
   ],
   "source": [
    "w = tracked_attention_weigths[0]\n",
    "w.detach().numpy().squeeze().shape"
   ]
  },
  {
   "cell_type": "code",
   "execution_count": 212,
   "metadata": {},
   "outputs": [
    {
     "data": {
      "image/png": "[encoded data removed]",
      "text/plain": [
       "<Figure size 720x720 with 1 Axes>"
      ]
     },
     "metadata": {
      "needs_background": "light"
     },
     "output_type": "display_data"
    },
    {
     "name": "stdout",
     "output_type": "stream",
     "text": [
      "many of the american people would say . . . what ? ? ? to my opening comment . yes i know that my comparison is without doubts an insult for the fans of the master akira kurosawa but if you analyze this movie my comment is right . we have the peasant who goes to the town searching for help against a band of grasshoppers who wants to steal the harvest of the village . the great difference is the way that the story takes . our samurais a band of circus performers as in the original are a very complex mixture of personalities but at the end are what the village needs heroes . please watch again this incredible movie the seven samurai obviously and find another movies who has stolen the story and tried to get the same magic effect\n"
     ]
    }
   ],
   "source": [
    "# Thanks to, \n",
    "# https://www.tensorflow.org/alpha/tutorials/text/nmt_with_attention\n",
    "batch_index = 0\n",
    "sentence = x[batch_index]\n",
    "\n",
    "fig = plt.figure(figsize=(10, 10))\n",
    "ax = fig.add_subplot(1, 1, 1)\n",
    "attention = w.detach().numpy().squeeze()\n",
    "attention = attention[batch_index] if type(batch_index) == int else attention\n",
    "ax.matshow(attention, cmap='viridis')\n",
    "fontdict = {'fontsize': 14}\n",
    "\n",
    "# ax.set_xticklabels([''] + sentence, fontdict=fontdict, rotation=90)\n",
    "# ax.set_yticklabels([''] + sentence, fontdict=fontdict)\n",
    "# ax.xaxis.set_major_locator(ticker.MultipleLocator(1))\n",
    "# ax.yaxis.set_major_locator(ticker.MultipleLocator(1))\n",
    "\n",
    "ax.set_title(\"First-Layer Long-Sentence Attention\")\n",
    "\n",
    "plt.show()\n",
    "print(' '.join(x[0]))"
   ]
  },
  {
   "cell_type": "markdown",
   "metadata": {},
   "source": [
    "# Re-Structure DataFrame To Include Length \n",
    "Then train on only long-sequences of data for analysis of self-attention in length\n"
   ]
  },
  {
   "cell_type": "code",
   "execution_count": 146,
   "metadata": {},
   "outputs": [
    {
     "data": {
      "text/html": [
       "<div>\n",
       "<style scoped>\n",
       "    .dataframe tbody tr th:only-of-type {\n",
       "        vertical-align: middle;\n",
       "    }\n",
       "\n",
       "    .dataframe tbody tr th {\n",
       "        vertical-align: top;\n",
       "    }\n",
       "\n",
       "    .dataframe thead th {\n",
       "        text-align: right;\n",
       "    }\n",
       "</style>\n",
       "<table border=\"1\" class=\"dataframe\">\n",
       "  <thead>\n",
       "    <tr style=\"text-align: right;\">\n",
       "      <th></th>\n",
       "      <th>path</th>\n",
       "      <th>target</th>\n",
       "      <th>review_rating</th>\n",
       "      <th>file_length</th>\n",
       "    </tr>\n",
       "  </thead>\n",
       "  <tbody>\n",
       "    <tr>\n",
       "      <th>13033</th>\n",
       "      <td>train/pos/2655_10.txt</td>\n",
       "      <td>1</td>\n",
       "      <td>10</td>\n",
       "      <td>750</td>\n",
       "    </tr>\n",
       "    <tr>\n",
       "      <th>8522</th>\n",
       "      <td>train/neg/778_2.txt</td>\n",
       "      <td>0</td>\n",
       "      <td>2</td>\n",
       "      <td>305</td>\n",
       "    </tr>\n",
       "    <tr>\n",
       "      <th>19669</th>\n",
       "      <td>train/pos/6739_7.txt</td>\n",
       "      <td>1</td>\n",
       "      <td>7</td>\n",
       "      <td>664</td>\n",
       "    </tr>\n",
       "    <tr>\n",
       "      <th>6099</th>\n",
       "      <td>train/neg/5189_2.txt</td>\n",
       "      <td>0</td>\n",
       "      <td>2</td>\n",
       "      <td>166</td>\n",
       "    </tr>\n",
       "    <tr>\n",
       "      <th>433</th>\n",
       "      <td>train/neg/4929_3.txt</td>\n",
       "      <td>0</td>\n",
       "      <td>3</td>\n",
       "      <td>312</td>\n",
       "    </tr>\n",
       "  </tbody>\n",
       "</table>\n",
       "</div>"
      ],
      "text/plain": [
       "                        path  target  review_rating  file_length\n",
       "13033  train/pos/2655_10.txt       1             10          750\n",
       "8522     train/neg/778_2.txt       0              2          305\n",
       "19669   train/pos/6739_7.txt       1              7          664\n",
       "6099    train/neg/5189_2.txt       0              2          166\n",
       "433     train/neg/4929_3.txt       0              3          312"
      ]
     },
     "execution_count": 146,
     "metadata": {},
     "output_type": "execute_result"
    }
   ],
   "source": [
    "train_df = pd.read_csv('train.csv')\n",
    "train_df.sample(frac=1.).head()"
   ]
  },
  {
   "cell_type": "code",
   "execution_count": 103,
   "metadata": {},
   "outputs": [],
   "source": [
    "lengths = []\n",
    "for path in train_df['path'].values:\n",
    "    file = open(str(base/path), encoding='utf-8').read()\n",
    "    lengths.append(len(file.split(' ')))"
   ]
  },
  {
   "cell_type": "code",
   "execution_count": 105,
   "metadata": {},
   "outputs": [
    {
     "data": {
      "text/html": [
       "<div>\n",
       "<style scoped>\n",
       "    .dataframe tbody tr th:only-of-type {\n",
       "        vertical-align: middle;\n",
       "    }\n",
       "\n",
       "    .dataframe tbody tr th {\n",
       "        vertical-align: top;\n",
       "    }\n",
       "\n",
       "    .dataframe thead th {\n",
       "        text-align: right;\n",
       "    }\n",
       "</style>\n",
       "<table border=\"1\" class=\"dataframe\">\n",
       "  <thead>\n",
       "    <tr style=\"text-align: right;\">\n",
       "      <th></th>\n",
       "      <th>path</th>\n",
       "      <th>target</th>\n",
       "      <th>review_rating</th>\n",
       "      <th>file_length</th>\n",
       "    </tr>\n",
       "  </thead>\n",
       "  <tbody>\n",
       "    <tr>\n",
       "      <th>0</th>\n",
       "      <td>train/neg/1821_4.txt</td>\n",
       "      <td>0</td>\n",
       "      <td>4</td>\n",
       "      <td>41</td>\n",
       "    </tr>\n",
       "    <tr>\n",
       "      <th>1</th>\n",
       "      <td>train/neg/10402_1.txt</td>\n",
       "      <td>0</td>\n",
       "      <td>1</td>\n",
       "      <td>188</td>\n",
       "    </tr>\n",
       "    <tr>\n",
       "      <th>2</th>\n",
       "      <td>train/neg/1062_4.txt</td>\n",
       "      <td>0</td>\n",
       "      <td>4</td>\n",
       "      <td>122</td>\n",
       "    </tr>\n",
       "    <tr>\n",
       "      <th>3</th>\n",
       "      <td>train/neg/9056_1.txt</td>\n",
       "      <td>0</td>\n",
       "      <td>1</td>\n",
       "      <td>354</td>\n",
       "    </tr>\n",
       "    <tr>\n",
       "      <th>4</th>\n",
       "      <td>train/neg/5392_3.txt</td>\n",
       "      <td>0</td>\n",
       "      <td>3</td>\n",
       "      <td>794</td>\n",
       "    </tr>\n",
       "  </tbody>\n",
       "</table>\n",
       "</div>"
      ],
      "text/plain": [
       "                    path  target  review_rating  file_length\n",
       "0   train/neg/1821_4.txt       0              4           41\n",
       "1  train/neg/10402_1.txt       0              1          188\n",
       "2   train/neg/1062_4.txt       0              4          122\n",
       "3   train/neg/9056_1.txt       0              1          354\n",
       "4   train/neg/5392_3.txt       0              3          794"
      ]
     },
     "execution_count": 105,
     "metadata": {},
     "output_type": "execute_result"
    }
   ],
   "source": [
    "train_df['file_length'] = lengths\n",
    "train_df.head()"
   ]
  },
  {
   "cell_type": "code",
   "execution_count": 128,
   "metadata": {},
   "outputs": [],
   "source": [
    "train_df.to_csv('train.csv', index=False)"
   ]
  },
  {
   "cell_type": "code",
   "execution_count": 125,
   "metadata": {},
   "outputs": [
    {
     "data": {
      "text/html": [
       "<div>\n",
       "<style scoped>\n",
       "    .dataframe tbody tr th:only-of-type {\n",
       "        vertical-align: middle;\n",
       "    }\n",
       "\n",
       "    .dataframe tbody tr th {\n",
       "        vertical-align: top;\n",
       "    }\n",
       "\n",
       "    .dataframe thead th {\n",
       "        text-align: right;\n",
       "    }\n",
       "</style>\n",
       "<table border=\"1\" class=\"dataframe\">\n",
       "  <thead>\n",
       "    <tr style=\"text-align: right;\">\n",
       "      <th></th>\n",
       "      <th>Unnamed: 0.1</th>\n",
       "      <th>path</th>\n",
       "      <th>target</th>\n",
       "      <th>review_rating</th>\n",
       "      <th>file_length</th>\n",
       "    </tr>\n",
       "  </thead>\n",
       "  <tbody>\n",
       "    <tr>\n",
       "      <th>0</th>\n",
       "      <td>0</td>\n",
       "      <td>train/neg/1821_4.txt</td>\n",
       "      <td>0</td>\n",
       "      <td>4</td>\n",
       "      <td>41</td>\n",
       "    </tr>\n",
       "    <tr>\n",
       "      <th>1</th>\n",
       "      <td>1</td>\n",
       "      <td>train/neg/10402_1.txt</td>\n",
       "      <td>0</td>\n",
       "      <td>1</td>\n",
       "      <td>188</td>\n",
       "    </tr>\n",
       "    <tr>\n",
       "      <th>2</th>\n",
       "      <td>2</td>\n",
       "      <td>train/neg/1062_4.txt</td>\n",
       "      <td>0</td>\n",
       "      <td>4</td>\n",
       "      <td>122</td>\n",
       "    </tr>\n",
       "    <tr>\n",
       "      <th>3</th>\n",
       "      <td>3</td>\n",
       "      <td>train/neg/9056_1.txt</td>\n",
       "      <td>0</td>\n",
       "      <td>1</td>\n",
       "      <td>354</td>\n",
       "    </tr>\n",
       "    <tr>\n",
       "      <th>4</th>\n",
       "      <td>4</td>\n",
       "      <td>train/neg/5392_3.txt</td>\n",
       "      <td>0</td>\n",
       "      <td>3</td>\n",
       "      <td>794</td>\n",
       "    </tr>\n",
       "  </tbody>\n",
       "</table>\n",
       "</div>"
      ],
      "text/plain": [
       "   Unnamed: 0.1                   path  target  review_rating  file_length\n",
       "0             0   train/neg/1821_4.txt       0              4           41\n",
       "1             1  train/neg/10402_1.txt       0              1          188\n",
       "2             2   train/neg/1062_4.txt       0              4          122\n",
       "3             3   train/neg/9056_1.txt       0              1          354\n",
       "4             4   train/neg/5392_3.txt       0              3          794"
      ]
     },
     "execution_count": 125,
     "metadata": {},
     "output_type": "execute_result"
    }
   ],
   "source": [
    "pd.read_csv(io.StringIO(train_df.to_csv()), index_col=0).head()"
   ]
  },
  {
   "cell_type": "code",
   "execution_count": 149,
   "metadata": {},
   "outputs": [
    {
     "data": {
      "text/plain": [
       "10352"
      ]
     },
     "execution_count": 149,
     "metadata": {},
     "output_type": "execute_result"
    }
   ],
   "source": [
    "len(train_df[train_df.file_length > 200])"
   ]
  },
  {
   "cell_type": "code",
   "execution_count": 150,
   "metadata": {},
   "outputs": [
    {
     "data": {
      "text/plain": [
       "2470"
      ]
     },
     "execution_count": 150,
     "metadata": {},
     "output_type": "execute_result"
    }
   ],
   "source": [
    "max(train_df.file_length.values)"
   ]
  },
  {
   "cell_type": "code",
   "execution_count": 127,
   "metadata": {},
   "outputs": [],
   "source": [
    "from train import load\n",
    "from model import *"
   ]
  },
  {
   "cell_type": "code",
   "execution_count": 80,
   "metadata": {},
   "outputs": [
    {
     "name": "stdout",
     "output_type": "stream",
     "text": [
      "torch.Size([154, 3, 20])\n"
     ]
    }
   ],
   "source": [
    "w = transformer_attention(model, x, lang, device)"
   ]
  },
  {
   "cell_type": "code",
   "execution_count": 121,
   "metadata": {},
   "outputs": [
    {
     "data": {
      "text/plain": [
       "odict_keys(['encoder', 'dropout', 'attentions', 'feed_forwards', 'ln_1', 'ln_2', 'classify'])"
      ]
     },
     "execution_count": 121,
     "metadata": {},
     "output_type": "execute_result"
    }
   ],
   "source": [
    "model._modules.keys()"
   ]
  },
  {
   "cell_type": "code",
   "execution_count": 193,
   "metadata": {},
   "outputs": [],
   "source": [
    "model, optim, lang = load('model_saves/' + 'e=5_itr=3_cancel_model.bin')"
   ]
  },
  {
   "cell_type": "code",
   "execution_count": 202,
   "metadata": {},
   "outputs": [],
   "source": [
    "attentions = model._modules.get('attentions')\n",
    "\n",
    "tracked_attention_weigths = []\n",
    "def show(m, i, o): \n",
    "    _, w = o\n",
    "    tracked_attention_weigths.append(w)\n",
    "    \n",
    "hook = attentions[0].register_forward_hook(show)"
   ]
  },
  {
   "cell_type": "code",
   "execution_count": 204,
   "metadata": {},
   "outputs": [],
   "source": [
    "h_x = model(x)\n",
    "hook.remove()"
   ]
  },
  {
   "cell_type": "code",
   "execution_count": 205,
   "metadata": {},
   "outputs": [
    {
     "data": {
      "text/plain": [
       "torch.Size([3, 145, 145])"
      ]
     },
     "execution_count": 205,
     "metadata": {},
     "output_type": "execute_result"
    }
   ],
   "source": [
    "tracked_attention_weigths[0].shape"
   ]
  },
  {
   "cell_type": "code",
   "execution_count": null,
   "metadata": {},
   "outputs": [],
   "source": []
  }
 ],
 "metadata": {
  "kernelspec": {
   "display_name": "Python 3",
   "language": "python",
   "name": "python3"
  },
  "language_info": {
   "codemirror_mode": {
    "name": "ipython",
    "version": 3
   },
   "file_extension": ".py",
   "mimetype": "text/x-python",
   "name": "python",
   "nbconvert_exporter": "python",
   "pygments_lexer": "ipython3",
   "version": "3.7.3"
  }
 },
 "nbformat": 4,
 "nbformat_minor": 2
}
