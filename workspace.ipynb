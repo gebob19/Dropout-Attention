{
 "cells": [
  {
   "cell_type": "code",
   "execution_count": 114,
   "metadata": {},
   "outputs": [
    {
     "name": "stdout",
     "output_type": "stream",
     "text": [
      "The autoreload extension is already loaded. To reload it, use:\n",
      "  %reload_ext autoreload\n"
     ]
    }
   ],
   "source": [
    "# for auto-reloading external modules\n",
    "# see http://stackoverflow.com/questions/1907993/autoreload-of-modules-in-ipython\n",
    "%load_ext autoreload\n",
    "%autoreload 2"
   ]
  },
  {
   "cell_type": "code",
   "execution_count": 2,
   "metadata": {},
   "outputs": [],
   "source": [
    "import torch\n",
    "\n",
    "from bert import tokenization\n",
    "from dataloader import *\n",
    "from bert_pytorch.model.bert import BERTClassificationWrapper\n",
    "\n",
    "vocab_file = './uncased_L-12_H-768_A-12/vocab.txt'\n",
    "tokenizer = tokenization.FullTokenizer(vocab_file=vocab_file, do_lower_case=True)\n",
    "device = torch.device(\"cuda\" if torch.cuda.is_available() else \"cpu\")"
   ]
  },
  {
   "cell_type": "code",
   "execution_count": 3,
   "metadata": {},
   "outputs": [
    {
     "name": "stdout",
     "output_type": "stream",
     "text": [
      "Length of (Train, Test) : (25000, 25000)\n"
     ]
    }
   ],
   "source": [
    "for x, y, lengths in IMDBLoader(max_len=10, device=device, tokenizer=tokenizer).batch_iter(batch_size=2, train=True, shuffle=True):\n",
    "    break"
   ]
  },
  {
   "cell_type": "code",
   "execution_count": 88,
   "metadata": {},
   "outputs": [
    {
     "name": "stdout",
     "output_type": "stream",
     "text": [
      "Length of (Train, Test) : (10, 10)\n"
     ]
    }
   ],
   "source": [
    "for x, y, lengths in QQPLoader(max_len=10, size=10, device=device, tokenizer=tokenizer).batch_iter(batch_size=2, train=True, shuffle=True):\n",
    "    break"
   ]
  },
  {
   "cell_type": "code",
   "execution_count": 95,
   "metadata": {
    "scrolled": true
   },
   "outputs": [
    {
     "name": "stdout",
     "output_type": "stream",
     "text": [
      "Length of (Train, Test) : (10, 10)\n"
     ]
    },
    {
     "data": {
      "text/html": [
       "<div>\n",
       "<style scoped>\n",
       "    .dataframe tbody tr th:only-of-type {\n",
       "        vertical-align: middle;\n",
       "    }\n",
       "\n",
       "    .dataframe tbody tr th {\n",
       "        vertical-align: top;\n",
       "    }\n",
       "\n",
       "    .dataframe thead th {\n",
       "        text-align: right;\n",
       "    }\n",
       "</style>\n",
       "<table border=\"1\" class=\"dataframe\">\n",
       "  <thead>\n",
       "    <tr style=\"text-align: right;\">\n",
       "      <th></th>\n",
       "      <th>sentence_source</th>\n",
       "      <th>label</th>\n",
       "      <th>author_judged</th>\n",
       "      <th>sentence</th>\n",
       "      <th>file_length</th>\n",
       "    </tr>\n",
       "  </thead>\n",
       "  <tbody>\n",
       "    <tr>\n",
       "      <th>477</th>\n",
       "      <td>w_80</td>\n",
       "      <td>1</td>\n",
       "      <td>NaN</td>\n",
       "      <td>John left us orders to follow Pete.</td>\n",
       "      <td>7</td>\n",
       "    </tr>\n",
       "    <tr>\n",
       "      <th>220</th>\n",
       "      <td>swb04</td>\n",
       "      <td>1</td>\n",
       "      <td>NaN</td>\n",
       "      <td>We gave ourselves to the cause.</td>\n",
       "      <td>6</td>\n",
       "    </tr>\n",
       "    <tr>\n",
       "      <th>185</th>\n",
       "      <td>s_97</td>\n",
       "      <td>1</td>\n",
       "      <td>NaN</td>\n",
       "      <td>I threw away a book that Sandy thought we had ...</td>\n",
       "      <td>11</td>\n",
       "    </tr>\n",
       "    <tr>\n",
       "      <th>320</th>\n",
       "      <td>swb04</td>\n",
       "      <td>1</td>\n",
       "      <td>NaN</td>\n",
       "      <td>The book surprised many people.</td>\n",
       "      <td>5</td>\n",
       "    </tr>\n",
       "    <tr>\n",
       "      <th>146</th>\n",
       "      <td>j_71</td>\n",
       "      <td>1</td>\n",
       "      <td>NaN</td>\n",
       "      <td>Neither Von Karajan's recording of Beethoven's...</td>\n",
       "      <td>17</td>\n",
       "    </tr>\n",
       "  </tbody>\n",
       "</table>\n",
       "</div>"
      ],
      "text/plain": [
       "    sentence_source  label author_judged  \\\n",
       "477            w_80      1           NaN   \n",
       "220           swb04      1           NaN   \n",
       "185            s_97      1           NaN   \n",
       "320           swb04      1           NaN   \n",
       "146            j_71      1           NaN   \n",
       "\n",
       "                                              sentence  file_length  \n",
       "477                John left us orders to follow Pete.            7  \n",
       "220                    We gave ourselves to the cause.            6  \n",
       "185  I threw away a book that Sandy thought we had ...           11  \n",
       "320                    The book surprised many people.            5  \n",
       "146  Neither Von Karajan's recording of Beethoven's...           17  "
      ]
     },
     "execution_count": 95,
     "metadata": {},
     "output_type": "execute_result"
    }
   ],
   "source": [
    "COLALoader(max_len=10, size=10, device=device, tokenizer=tokenizer).testdf.head()"
   ]
  },
  {
   "cell_type": "code",
   "execution_count": 23,
   "metadata": {},
   "outputs": [
    {
     "name": "stdout",
     "output_type": "stream",
     "text": [
      "Length of (Train, Test) : (103106, 5266)\n"
     ]
    }
   ],
   "source": [
    "for x, y, lengths in QNLILoader(max_len=100, device=device, tokenizer=tokenizer).batch_iter(batch_size=2, train=True, shuffle=True):\n",
    "    break"
   ]
  },
  {
   "cell_type": "code",
   "execution_count": 115,
   "metadata": {},
   "outputs": [
    {
     "name": "stdout",
     "output_type": "stream",
     "text": [
      "Length of (Train, Test) : (2490, 277)\n"
     ]
    }
   ],
   "source": [
    "for x, y, lengths in RTELoader(max_len=100, device=device, tokenizer=tokenizer).batch_iter(batch_size=2, train=True, shuffle=True):\n",
    "    break"
   ]
  },
  {
   "cell_type": "code",
   "execution_count": 133,
   "metadata": {},
   "outputs": [
    {
     "name": "stdout",
     "output_type": "stream",
     "text": [
      "Length of (Train, Test) : (10, 10)\n"
     ]
    }
   ],
   "source": [
    "for x, y, lengths in COLALoader(max_len=10, device=device, size=10, tokenizer=tokenizer).batch_iter(batch_size=2, train=False, shuffle=True):\n",
    "    pass"
   ]
  },
  {
   "cell_type": "code",
   "execution_count": 135,
   "metadata": {},
   "outputs": [
    {
     "data": {
      "text/plain": [
       "[7, 8]"
      ]
     },
     "execution_count": 135,
     "metadata": {},
     "output_type": "execute_result"
    }
   ],
   "source": [
    "lengths"
   ]
  },
  {
   "cell_type": "code",
   "execution_count": 77,
   "metadata": {},
   "outputs": [],
   "source": [
    "from train import accuracy"
   ]
  },
  {
   "cell_type": "code",
   "execution_count": 78,
   "metadata": {},
   "outputs": [],
   "source": [
    "model = BERTClassificationWrapper(device,\n",
    "                                len(tokenizer.vocab),\n",
    "                                hidden=10,\n",
    "                                n_layers=1,\n",
    "                                attn_heads=1,\n",
    "                                dropout=0.1,\n",
    "                                number_classes=2,\n",
    "                                attention_dropout=True)"
   ]
  },
  {
   "cell_type": "code",
   "execution_count": 134,
   "metadata": {},
   "outputs": [
    {
     "name": "stdout",
     "output_type": "stream",
     "text": [
      "torch.Size([8, 2, 10])\n",
      "torch.Size([8, 2, 10])\n"
     ]
    },
    {
     "data": {
      "text/plain": [
       "tensor([[0.4195, 0.5805],\n",
       "        [0.4453, 0.5547]], grad_fn=<SqueezeBackward0>)"
      ]
     },
     "execution_count": 134,
     "metadata": {},
     "output_type": "execute_result"
    }
   ],
   "source": [
    "y_hat = model(x, lengths)\n",
    "y_preds = torch.softmax(y_hat, -1).squeeze()\n",
    "y_preds"
   ]
  },
  {
   "cell_type": "code",
   "execution_count": 107,
   "metadata": {},
   "outputs": [
    {
     "data": {
      "text/plain": [
       "array([[0, 1],\n",
       "       [0, 1]], dtype=uint8)"
      ]
     },
     "execution_count": 107,
     "metadata": {},
     "output_type": "execute_result"
    }
   ],
   "source": [
    "tmp = (y_preds >= torch.tensor([0.5])).cpu().numpy()\n",
    "tmp"
   ]
  },
  {
   "cell_type": "code",
   "execution_count": 108,
   "metadata": {},
   "outputs": [
    {
     "data": {
      "text/plain": [
       "tensor([0, 1])"
      ]
     },
     "execution_count": 108,
     "metadata": {},
     "output_type": "execute_result"
    }
   ],
   "source": [
    "y"
   ]
  },
  {
   "cell_type": "code",
   "execution_count": 111,
   "metadata": {},
   "outputs": [],
   "source": [
    "import numpy as np"
   ]
  },
  {
   "cell_type": "code",
   "execution_count": 113,
   "metadata": {},
   "outputs": [
    {
     "data": {
      "text/plain": [
       "1"
      ]
     },
     "execution_count": 113,
     "metadata": {},
     "output_type": "execute_result"
    }
   ],
   "source": [
    "(tmp[np.arange(len(y)), y] == 1).sum()"
   ]
  },
  {
   "cell_type": "code",
   "execution_count": 92,
   "metadata": {},
   "outputs": [
    {
     "data": {
      "text/plain": [
       "1"
      ]
     },
     "execution_count": 92,
     "metadata": {},
     "output_type": "execute_result"
    }
   ],
   "source": [
    "count = 0\n",
    "for y_pred, y_true in zip(y_preds_t.split(1), y.split(1)):\n",
    "    y_pred = y_pred.squeeze().nonzero().squeeze().detach().cpu().numpy()\n",
    "    y_true = y_true.detach().cpu().numpy()\n",
    "    count += 1 if y_pred == y_true else 0\n",
    "count"
   ]
  },
  {
   "cell_type": "code",
   "execution_count": 43,
   "metadata": {},
   "outputs": [
    {
     "data": {
      "text/plain": [
       "tensor([[1, 1],\n",
       "        [0, 0]], dtype=torch.uint8)"
      ]
     },
     "execution_count": 43,
     "metadata": {},
     "output_type": "execute_result"
    }
   ],
   "source": [
    "torch.eq(y_preds_t, tmp_oh)"
   ]
  },
  {
   "cell_type": "code",
   "execution_count": 61,
   "metadata": {},
   "outputs": [],
   "source": [
    "w = []\n",
    "for t in model.bert.transformer_blocks:\n",
    "    w1 = t.input_sublayer.dropout_attention.layer_embedding\n",
    "    w2 = t.output_sublayer.dropout_attention.layer_embedding\n",
    "    w.append([w1, w2])"
   ]
  },
  {
   "cell_type": "code",
   "execution_count": 66,
   "metadata": {},
   "outputs": [],
   "source": [
    "loss_fcn = torch.nn.CrossEntropyLoss()"
   ]
  },
  {
   "cell_type": "code",
   "execution_count": 79,
   "metadata": {},
   "outputs": [
    {
     "data": {
      "text/plain": [
       "tensor(0)"
      ]
     },
     "execution_count": 79,
     "metadata": {},
     "output_type": "execute_result"
    }
   ],
   "source": [
    "y"
   ]
  },
  {
   "cell_type": "code",
   "execution_count": 83,
   "metadata": {},
   "outputs": [],
   "source": [
    "data = Path('../data/QQP')"
   ]
  },
  {
   "cell_type": "code",
   "execution_count": 85,
   "metadata": {},
   "outputs": [],
   "source": [
    "df = pd.read_csv(data/'train.csv')"
   ]
  },
  {
   "cell_type": "code",
   "execution_count": 87,
   "metadata": {},
   "outputs": [
    {
     "data": {
      "text/plain": [
       "array([0., 1., 0., ..., 0., 0., 1.])"
      ]
     },
     "execution_count": 87,
     "metadata": {},
     "output_type": "execute_result"
    }
   ],
   "source": [
    "df['is_duplicate'].values"
   ]
  },
  {
   "cell_type": "markdown",
   "metadata": {},
   "source": [
    "# Model + Data Loading"
   ]
  },
  {
   "cell_type": "code",
   "execution_count": 3,
   "metadata": {},
   "outputs": [
    {
     "ename": "NameError",
     "evalue": "name 'tokenization' is not defined",
     "output_type": "error",
     "traceback": [
      "\u001b[0;31m---------------------------------------------------------------------------\u001b[0m",
      "\u001b[0;31mNameError\u001b[0m                                 Traceback (most recent call last)",
      "\u001b[0;32m<ipython-input-3-46d873c88c08>\u001b[0m in \u001b[0;36m<module>\u001b[0;34m\u001b[0m\n\u001b[1;32m     16\u001b[0m \u001b[0mdevice\u001b[0m \u001b[0;34m=\u001b[0m \u001b[0mtorch\u001b[0m\u001b[0;34m.\u001b[0m\u001b[0mdevice\u001b[0m\u001b[0;34m(\u001b[0m\u001b[0;34m\"cuda\"\u001b[0m \u001b[0;32mif\u001b[0m \u001b[0mtorch\u001b[0m\u001b[0;34m.\u001b[0m\u001b[0mcuda\u001b[0m\u001b[0;34m.\u001b[0m\u001b[0mis_available\u001b[0m\u001b[0;34m(\u001b[0m\u001b[0;34m)\u001b[0m \u001b[0;32melse\u001b[0m \u001b[0;34m\"cpu\"\u001b[0m\u001b[0;34m)\u001b[0m\u001b[0;34m\u001b[0m\u001b[0;34m\u001b[0m\u001b[0m\n\u001b[1;32m     17\u001b[0m \u001b[0mvocab_file\u001b[0m \u001b[0;34m=\u001b[0m \u001b[0;34m'./uncased_L-12_H-768_A-12/vocab.txt'\u001b[0m\u001b[0;34m\u001b[0m\u001b[0;34m\u001b[0m\u001b[0m\n\u001b[0;32m---> 18\u001b[0;31m \u001b[0mtokenizer\u001b[0m \u001b[0;34m=\u001b[0m \u001b[0mtokenization\u001b[0m\u001b[0;34m.\u001b[0m\u001b[0mFullTokenizer\u001b[0m\u001b[0;34m(\u001b[0m\u001b[0mvocab_file\u001b[0m\u001b[0;34m=\u001b[0m\u001b[0mvocab_file\u001b[0m\u001b[0;34m,\u001b[0m \u001b[0mdo_lower_case\u001b[0m\u001b[0;34m=\u001b[0m\u001b[0;32mTrue\u001b[0m\u001b[0;34m)\u001b[0m\u001b[0;34m\u001b[0m\u001b[0;34m\u001b[0m\u001b[0m\n\u001b[0m",
      "\u001b[0;31mNameError\u001b[0m: name 'tokenization' is not defined"
     ]
    }
   ],
   "source": [
    "import pprint\n",
    "\n",
    "import pandas as pd\n",
    "import numpy as np\n",
    "import torch.nn as nn\n",
    "import matplotlib.pyplot as plt\n",
    "import matplotlib.ticker as ticker\n",
    "\n",
    "from pathlib import Path\n",
    "\n",
    "from language_structure import *\n",
    "from train import load, load_dataloader\n",
    "from model import *\n",
    "from utils import *\n",
    "\n",
    "device = torch.device(\"cuda\" if torch.cuda.is_available() else \"cpu\")\n",
    "vocab_file = './uncased_L-12_H-768_A-12/vocab.txt'\n",
    "tokenizer = tokenization.FullTokenizer(vocab_file=vocab_file, do_lower_case=True)"
   ]
  },
  {
   "cell_type": "code",
   "execution_count": 122,
   "metadata": {},
   "outputs": [
    {
     "name": "stdout",
     "output_type": "stream",
     "text": [
      "Length of (Train, Test) : (25000, 25000)\n"
     ]
    }
   ],
   "source": [
    "model_path = 'cancel_e=0_itr=3default-model'\n",
    "model1, optim, lang, m1 = load(model_path, cpu=True, load_model=False)\n",
    "dataloader = load_dataloader(m1['args'], tokenizer)"
   ]
  },
  {
   "cell_type": "code",
   "execution_count": 123,
   "metadata": {},
   "outputs": [
    {
     "name": "stdout",
     "output_type": "stream",
     "text": [
      "Total Time: 30.3288 \n",
      "Train Time: 28.5355\n",
      "Max (Validation, Train): (0.00, 1.14)\n"
     ]
    },
    {
     "data": {
      "image/png": "[encoded data removed]",
      "text/plain": [
       "<Figure size 1440x1080 with 1 Axes>"
      ]
     },
     "metadata": {
      "needs_background": "light"
     },
     "output_type": "display_data"
    },
    {
     "data": {
      "image/png": "[encoded data removed]",
      "text/plain": [
       "<Figure size 1440x1080 with 1 Axes>"
      ]
     },
     "metadata": {
      "needs_background": "light"
     },
     "output_type": "display_data"
    },
    {
     "name": "stdout",
     "output_type": "stream",
     "text": [
      "{   '--COLA': False,\n",
      "    '--IMDB': True,\n",
      "    '--QNLI': False,\n",
      "    '--QQP': False,\n",
      "    '--RTE': False,\n",
      "    '--attention-dropout': True,\n",
      "    '--batch-size': '128',\n",
      "    '--clip-grad': '5.0',\n",
      "    '--decrease-dropout': '10',\n",
      "    '--dropout': '0.3',\n",
      "    '--dset-size': '0',\n",
      "    '--embed-size': '256',\n",
      "    '--help': False,\n",
      "    '--hidden-size': '256',\n",
      "    '--load': False,\n",
      "    '--load-from': 'default-model',\n",
      "    '--log-every': '1',\n",
      "    '--lr': '0.001',\n",
      "    '--max-epoch': '30',\n",
      "    '--max-sent-len': '10000',\n",
      "    '--n-heads': '1',\n",
      "    '--n-layers': '3',\n",
      "    '--n-valid': '10000',\n",
      "    '--n-words': '10000',\n",
      "    '--qtest': False,\n",
      "    '--save': True,\n",
      "    '--save-to': 'default-model',\n",
      "    '--seed': '0',\n",
      "    '--start-decrease': '100',\n",
      "    '--test': False,\n",
      "    '--validate-every': '40'}\n"
     ]
    }
   ],
   "source": [
    "plot_metrics(m1, first_n=None)\n",
    "pp = pprint.PrettyPrinter(indent=4)\n",
    "pp.pprint(m1['args'])"
   ]
  },
  {
   "cell_type": "code",
   "execution_count": 129,
   "metadata": {},
   "outputs": [
    {
     "name": "stdout",
     "output_type": "stream",
     "text": [
      "Length of (Train, Test) : (2488, 277)\n"
     ]
    }
   ],
   "source": [
    "for x, y, lengths in RTELoader(max_len=100, device=device, tokenizer=tokenizer).batch_iter(batch_size=2, train=True, shuffle=True):\n",
    "    pass"
   ]
  },
  {
   "cell_type": "code",
   "execution_count": 117,
   "metadata": {},
   "outputs": [],
   "source": [
    "data = Path('../data/RTE')"
   ]
  },
  {
   "cell_type": "code",
   "execution_count": 126,
   "metadata": {},
   "outputs": [],
   "source": [
    "traindf = pd.read_csv(data/'train.csv')\n",
    "testdf = pd.read_csv(data/'test.csv')"
   ]
  },
  {
   "cell_type": "code",
   "execution_count": 119,
   "metadata": {},
   "outputs": [
    {
     "data": {
      "text/html": [
       "<div>\n",
       "<style scoped>\n",
       "    .dataframe tbody tr th:only-of-type {\n",
       "        vertical-align: middle;\n",
       "    }\n",
       "\n",
       "    .dataframe tbody tr th {\n",
       "        vertical-align: top;\n",
       "    }\n",
       "\n",
       "    .dataframe thead th {\n",
       "        text-align: right;\n",
       "    }\n",
       "</style>\n",
       "<table border=\"1\" class=\"dataframe\">\n",
       "  <thead>\n",
       "    <tr style=\"text-align: right;\">\n",
       "      <th></th>\n",
       "      <th>index</th>\n",
       "      <th>sentence1</th>\n",
       "      <th>sentence2</th>\n",
       "      <th>label</th>\n",
       "      <th>file_length</th>\n",
       "      <th>targets</th>\n",
       "    </tr>\n",
       "  </thead>\n",
       "  <tbody>\n",
       "    <tr>\n",
       "      <th>0</th>\n",
       "      <td>0.0</td>\n",
       "      <td>No Weapons of Mass Destruction Found in Iraq Yet.</td>\n",
       "      <td>Weapons of Mass Destruction Found in Iraq.</td>\n",
       "      <td>not_entailment</td>\n",
       "      <td>18.0</td>\n",
       "      <td>0.0</td>\n",
       "    </tr>\n",
       "    <tr>\n",
       "      <th>1</th>\n",
       "      <td>1.0</td>\n",
       "      <td>A place of sorrow, after Pope John Paul II die...</td>\n",
       "      <td>Pope Benedict XVI is the new leader of the Rom...</td>\n",
       "      <td>entailment</td>\n",
       "      <td>64.0</td>\n",
       "      <td>1.0</td>\n",
       "    </tr>\n",
       "    <tr>\n",
       "      <th>2</th>\n",
       "      <td>2.0</td>\n",
       "      <td>Herceptin was already approved to treat the si...</td>\n",
       "      <td>Herceptin can be used to treat breast cancer.</td>\n",
       "      <td>entailment</td>\n",
       "      <td>66.0</td>\n",
       "      <td>1.0</td>\n",
       "    </tr>\n",
       "    <tr>\n",
       "      <th>3</th>\n",
       "      <td>3.0</td>\n",
       "      <td>Judie Vivian, chief executive at ProMedica, a ...</td>\n",
       "      <td>The previous name of Ho Chi Minh City was Saigon.</td>\n",
       "      <td>entailment</td>\n",
       "      <td>70.0</td>\n",
       "      <td>1.0</td>\n",
       "    </tr>\n",
       "    <tr>\n",
       "      <th>4</th>\n",
       "      <td>4.0</td>\n",
       "      <td>A man is due in court later charged with the m...</td>\n",
       "      <td>Paul Stewart Hutchinson is accused of having s...</td>\n",
       "      <td>not_entailment</td>\n",
       "      <td>152.0</td>\n",
       "      <td>0.0</td>\n",
       "    </tr>\n",
       "  </tbody>\n",
       "</table>\n",
       "</div>"
      ],
      "text/plain": [
       "   index                                          sentence1  \\\n",
       "0    0.0  No Weapons of Mass Destruction Found in Iraq Yet.   \n",
       "1    1.0  A place of sorrow, after Pope John Paul II die...   \n",
       "2    2.0  Herceptin was already approved to treat the si...   \n",
       "3    3.0  Judie Vivian, chief executive at ProMedica, a ...   \n",
       "4    4.0  A man is due in court later charged with the m...   \n",
       "\n",
       "                                           sentence2           label  \\\n",
       "0         Weapons of Mass Destruction Found in Iraq.  not_entailment   \n",
       "1  Pope Benedict XVI is the new leader of the Rom...      entailment   \n",
       "2      Herceptin can be used to treat breast cancer.      entailment   \n",
       "3  The previous name of Ho Chi Minh City was Saigon.      entailment   \n",
       "4  Paul Stewart Hutchinson is accused of having s...  not_entailment   \n",
       "\n",
       "   file_length  targets  \n",
       "0         18.0      0.0  \n",
       "1         64.0      1.0  \n",
       "2         66.0      1.0  \n",
       "3         70.0      1.0  \n",
       "4        152.0      0.0  "
      ]
     },
     "execution_count": 119,
     "metadata": {},
     "output_type": "execute_result"
    }
   ],
   "source": [
    "traindf.head()"
   ]
  },
  {
   "cell_type": "code",
   "execution_count": 128,
   "metadata": {},
   "outputs": [
    {
     "data": {
      "text/plain": [
       "(0, 277)"
      ]
     },
     "execution_count": 128,
     "metadata": {},
     "output_type": "execute_result"
    }
   ],
   "source": [
    "len(testdf[testdf.isnull().any(axis=1)]), len(testdf)"
   ]
  },
  {
   "cell_type": "code",
   "execution_count": 122,
   "metadata": {},
   "outputs": [],
   "source": [
    "filtered_df = traindf[~traindf.isnull().any(axis=1)]\n",
    "assert len(filtered_df) == (len(traindf) - len(traindf[traindf.isnull().any(axis=1)]))\n",
    "traindf = filtered_df"
   ]
  },
  {
   "cell_type": "code",
   "execution_count": 124,
   "metadata": {},
   "outputs": [],
   "source": [
    "traindf.to_csv(data/'train.csv')"
   ]
  },
  {
   "cell_type": "markdown",
   "metadata": {},
   "source": [
    "# Units Dropped"
   ]
  },
  {
   "cell_type": "code",
   "execution_count": 4,
   "metadata": {},
   "outputs": [],
   "source": [
    "seq_len = np.random.randint(15, 512)\n",
    "hidden = 768 # bert hidden\n",
    "batch_size = 16\n",
    "x = torch.rand((seq_len, batch_size, hidden))"
   ]
  },
  {
   "cell_type": "code",
   "execution_count": 97,
   "metadata": {},
   "outputs": [],
   "source": [
    "total_units = []\n",
    "attention_drop = []\n",
    "vanilla_drop = []\n",
    "expected_drop = []\n",
    "setups = []\n",
    "\n",
    "batch_size = 1\n",
    "\n",
    "for _ in range(100):\n",
    "    p_drop = round(np.random.random(), 2)\n",
    "    dropout = torch.nn.Dropout(p_drop)\n",
    "    hidden = np.random.randint(300, 900) # bert hidden\n",
    "    seq_len = np.random.randint(15, 512)\n",
    "    \n",
    "    x = torch.rand((seq_len, batch_size, hidden))\n",
    "    setups.append([p_drop, seq_len, hidden])\n",
    "    \n",
    "    total_units.append(seq_len * hidden * batch_size)\n",
    "    \n",
    "    expected = p_drop * seq_len * hidden * batch_size\n",
    "    expected_drop.append(expected)\n",
    "    \n",
    "    # attention dropout \n",
    "    drop_len = max(1, int(p_drop * seq_len))\n",
    "    units_dropped = drop_len * hidden * batch_size\n",
    "    attention_drop.append(units_dropped)\n",
    "    \n",
    "    # 5 test for consistency vanilla dropout\n",
    "    dropout_dropped = []\n",
    "    for _ in range(5):\n",
    "        dropped_x = dropout(x.clone())\n",
    "        units_dropped = int((1 - (x == dropped_x * (1-p_drop))).sum().cpu().numpy())\n",
    "        dropout_dropped.append(units_dropped)\n",
    "    vanilla_drop.append(dropout_dropped)"
   ]
  },
  {
   "cell_type": "code",
   "execution_count": 98,
   "metadata": {},
   "outputs": [],
   "source": [
    "import matplotlib.pyplot as plt"
   ]
  },
  {
   "cell_type": "code",
   "execution_count": 109,
   "metadata": {},
   "outputs": [
    {
     "data": {
      "image/png": "[encoded data removed]",
      "text/plain": [
       "<Figure size 1440x720 with 1 Axes>"
      ]
     },
     "metadata": {
      "needs_background": "light"
     },
     "output_type": "display_data"
    }
   ],
   "source": [
    "bins = np.linspace(-10000, 50000, 50)\n",
    "\n",
    "x = [(sum(vd)/len(vd) - e) for vd, e in zip(vanilla_drop, expected_drop)]\n",
    "y = [(ad - e) for ad, e in zip(attention_drop, expected_drop)]\n",
    "\n",
    "assert len(x) == len(y)\n",
    "plt.figure(figsize=(20, 10))\n",
    "plt.hist(x, bins, alpha=0.5, label='Vanilla Dropout (Mean over 5 trials)')\n",
    "plt.hist(y, bins, alpha=0.5, label='Attention Dropout')\n",
    "plt.title('# Units Dropped Difference from Expectation')\n",
    "plt.legend(loc='upper right')\n",
    "plt.show()"
   ]
  },
  {
   "cell_type": "code",
   "execution_count": 72,
   "metadata": {},
   "outputs": [
    {
     "data": {
      "image/png": "[encoded data removed]",
      "text/plain": [
       "<Figure size 432x288 with 1 Axes>"
      ]
     },
     "metadata": {
      "needs_background": "light"
     },
     "output_type": "display_data"
    }
   ],
   "source": [
    "plt.hist([(sum(vd)/len(vd) - e) for vd, e in zip(vanilla_drop, expected_drop)])\n",
    "plt.title('# Units Dropped Difference from Expectation (Vanilla Dropout)')\n",
    "plt.show()"
   ]
  },
  {
   "cell_type": "code",
   "execution_count": 73,
   "metadata": {},
   "outputs": [
    {
     "data": {
      "image/png": "[encoded data removed]",
      "text/plain": [
       "<Figure size 432x288 with 1 Axes>"
      ]
     },
     "metadata": {
      "needs_background": "light"
     },
     "output_type": "display_data"
    }
   ],
   "source": [
    "plt.hist([(ad - e) for ad, e in zip(attention_drop, expected_drop)])\n",
    "plt.title('# Units Dropped Difference from Expectation (Attention Dropout)')\n",
    "plt.show()"
   ]
  },
  {
   "cell_type": "code",
   "execution_count": 62,
   "metadata": {},
   "outputs": [
    {
     "data": {
      "image/png": "[encoded data removed]",
      "text/plain": [
       "<Figure size 432x288 with 1 Axes>"
      ]
     },
     "metadata": {
      "needs_background": "light"
     },
     "output_type": "display_data"
    }
   ],
   "source": [
    "ar = (attention_drop[0], sum(vanilla_drop[0]) / len(vanilla_drop[0]), expected_drop[0])\n",
    "labels = ['AD', 'VD', 'E']\n",
    "\n",
    "fig, ax = plt.subplots()\n",
    "ax.plot(ar, len(ar) * [1], \"x\")\n",
    "for i, txt in enumerate(labels):\n",
    "    ax.annotate(txt, (ar[i], 1))\n",
    "plt.show()"
   ]
  },
  {
   "cell_type": "code",
   "execution_count": 38,
   "metadata": {},
   "outputs": [
    {
     "name": "stdout",
     "output_type": "stream",
     "text": [
      "(p_drop, seq_len, hidden) == [0.77, 169, 414]\n",
      "Vanilla - E(drop): 1199.8 (0.79 of total units)\n",
      "Attention - E(drop): -53.8 (0.77 of total units)\n",
      "------------------------------\n",
      "(p_drop, seq_len, hidden) == [0.43, 303, 526]\n",
      "Vanilla - E(drop): 24920.9 (0.59 of total units)\n",
      "Attention - E(drop): -152.5 (0.43 of total units)\n",
      "------------------------------\n",
      "(p_drop, seq_len, hidden) == [0.4, 85, 634]\n",
      "Vanilla - E(drop): 6078.2 (0.51 of total units)\n",
      "Attention - E(drop): 0.0 (0.40 of total units)\n",
      "------------------------------\n",
      "(p_drop, seq_len, hidden) == [0.77, 448, 319]\n",
      "Vanilla - E(drop): 2315.2 (0.79 of total units)\n",
      "Attention - E(drop): -306.2 (0.77 of total units)\n",
      "------------------------------\n",
      "(p_drop, seq_len, hidden) == [0.71, 341, 729]\n",
      "Vanilla - E(drop): 20586.6 (0.79 of total units)\n",
      "Attention - E(drop): -80.2 (0.71 of total units)\n",
      "------------------------------\n",
      "(p_drop, seq_len, hidden) == [0.68, 243, 869]\n",
      "Vanilla - E(drop): 17515.2 (0.76 of total units)\n",
      "Attention - E(drop): -208.6 (0.68 of total units)\n",
      "------------------------------\n",
      "(p_drop, seq_len, hidden) == [0.91, 503, 532]\n",
      "Vanilla - E(drop): 4111.0 (0.93 of total units)\n",
      "Attention - E(drop): -388.4 (0.91 of total units)\n",
      "------------------------------\n",
      "(p_drop, seq_len, hidden) == [0.27, 126, 733]\n",
      "Vanilla - E(drop): 32315.9 (0.62 of total units)\n",
      "Attention - E(drop): -14.7 (0.27 of total units)\n",
      "------------------------------\n",
      "(p_drop, seq_len, hidden) == [0.81, 360, 548]\n",
      "Vanilla - E(drop): 9967.6 (0.86 of total units)\n",
      "Attention - E(drop): -328.8 (0.81 of total units)\n",
      "------------------------------\n",
      "(p_drop, seq_len, hidden) == [0.69, 31, 462]\n",
      "Vanilla - E(drop): 870.4 (0.75 of total units)\n",
      "Attention - E(drop): -180.2 (0.68 of total units)\n",
      "------------------------------\n"
     ]
    }
   ],
   "source": [
    "for setup, total, ad, vd, ed in zip(setups, total_units, attention_drop, vanilla_drop, expected_drop):\n",
    "    mean_vd = sum(vd) / len(vd)\n",
    "    vd_against_expected = mean_vd - ed \n",
    "    ad_against_expected = ad - ed \n",
    "    print('(p_drop, seq_len, hidden) == ' + str(setup))\n",
    "    print(\"Vanilla - E(drop): %.1f (%.2f of total units)\" % (vd_against_expected, mean_vd/total))\n",
    "    print(\"Attention - E(drop): %.1f (%.2f of total units)\" % (ad_against_expected, ad/total))\n",
    "    print('------------------------------')\n",
    "    "
   ]
  },
  {
   "cell_type": "code",
   "execution_count": 111,
   "metadata": {},
   "outputs": [
    {
     "data": {
      "text/plain": [
       "(torch.Size([1, 10]),\n",
       " tensor([[ 1.,  2.,  3.,  4.,  5.,  6.,  7.,  8.,  9., 10.]]))"
      ]
     },
     "execution_count": 111,
     "metadata": {},
     "output_type": "execute_result"
    }
   ],
   "source": [
    "x = torch.tensor([[1., 2., 3., 4., 5., 6., 7., 8., 9., 10.]])\n",
    "x.shape, x"
   ]
  },
  {
   "cell_type": "code",
   "execution_count": 112,
   "metadata": {},
   "outputs": [
    {
     "data": {
      "text/plain": [
       "tensor([[ 1.1111,  2.2222,  3.3333,  4.4444,  5.5556,  6.6667,  7.7778,  8.8889,\n",
       "         10.0000, 11.1111]])"
      ]
     },
     "execution_count": 112,
     "metadata": {},
     "output_type": "execute_result"
    }
   ],
   "source": [
    "torch.nn.functional.dropout(x, p=0.1) "
   ]
  },
  {
   "cell_type": "code",
   "execution_count": 113,
   "metadata": {},
   "outputs": [
    {
     "data": {
      "text/plain": [
       "tensor([[ 1.1111,  2.2222,  3.3333,  4.4444,  5.5556,  6.6667,  7.7778,  8.8889,\n",
       "         10.0000, 11.1111]])"
      ]
     },
     "execution_count": 113,
     "metadata": {},
     "output_type": "execute_result"
    }
   ],
   "source": [
    "x * (1. / (1. - 0.1))"
   ]
  },
  {
   "cell_type": "code",
   "execution_count": 24,
   "metadata": {},
   "outputs": [],
   "source": [
    "p_drop = 0.1\n",
    "dropout = torch.nn.functional.dropout(x, p=0.1)"
   ]
  },
  {
   "cell_type": "code",
   "execution_count": 176,
   "metadata": {},
   "outputs": [
    {
     "data": {
      "text/plain": [
       "344064"
      ]
     },
     "execution_count": 176,
     "metadata": {},
     "output_type": "execute_result"
    }
   ],
   "source": [
    "drop_len = max(1, int(p_drop * seq_len))\n",
    "units_dropped = drop_len * hidden * batch_size\n",
    "units_dropped"
   ]
  },
  {
   "cell_type": "code",
   "execution_count": 174,
   "metadata": {},
   "outputs": [],
   "source": [
    "dropped_x = x.clone()\n",
    "dropped_x = dropout(dropped_x)"
   ]
  },
  {
   "cell_type": "code",
   "execution_count": 175,
   "metadata": {},
   "outputs": [
    {
     "data": {
      "text/plain": [
       "tensor(3538944)"
      ]
     },
     "execution_count": 175,
     "metadata": {},
     "output_type": "execute_result"
    }
   ],
   "source": [
    "(1 - (x == dropped_x)).sum()"
   ]
  },
  {
   "cell_type": "code",
   "execution_count": 177,
   "metadata": {},
   "outputs": [
    {
     "data": {
      "text/plain": [
       "353894.4"
      ]
     },
     "execution_count": 177,
     "metadata": {},
     "output_type": "execute_result"
    }
   ],
   "source": [
    "# expected value\n",
    "p_drop * seq_len * hidden * batch_size"
   ]
  },
  {
   "cell_type": "code",
   "execution_count": null,
   "metadata": {},
   "outputs": [],
   "source": []
  }
 ],
 "metadata": {
  "kernelspec": {
   "display_name": "Python 3",
   "language": "python",
   "name": "python3"
  },
  "language_info": {
   "codemirror_mode": {
    "name": "ipython",
    "version": 3
   },
   "file_extension": ".py",
   "mimetype": "text/x-python",
   "name": "python",
   "nbconvert_exporter": "python",
   "pygments_lexer": "ipython3",
   "version": "3.7.3"
  }
 },
 "nbformat": 4,
 "nbformat_minor": 2
}
