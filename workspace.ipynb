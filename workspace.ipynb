{
 "cells": [
  {
   "cell_type": "code",
   "execution_count": 1,
   "metadata": {},
   "outputs": [],
   "source": [
    "# for auto-reloading external modules\n",
    "# see http://stackoverflow.com/questions/1907993/autoreload-of-modules-in-ipython\n",
    "%load_ext autoreload\n",
    "%autoreload 2"
   ]
  },
  {
   "cell_type": "code",
   "execution_count": 31,
   "metadata": {},
   "outputs": [],
   "source": [
    "import torch\n",
    "\n",
    "from bert import tokenization\n",
    "from dataloader import *\n",
    "from bert_pytorch.model.bert import BERTClassificationWrapper\n",
    "\n",
    "vocab_file = './uncased_L-12_H-768_A-12/vocab.txt'\n",
    "tokenizer = tokenization.FullTokenizer(vocab_file=vocab_file, do_lower_case=True)\n",
    "device = torch.device(\"cuda\" if torch.cuda.is_available() else \"cpu\")"
   ]
  },
  {
   "cell_type": "code",
   "execution_count": 11,
   "metadata": {},
   "outputs": [
    {
     "name": "stdout",
     "output_type": "stream",
     "text": [
      "Length of (Train, Test) : (25000, 25000)\n"
     ]
    }
   ],
   "source": [
    "for x, y, lengths in IMDBLoader(max_len=10, device=device, tokenizer=tokenizer).batch_iter(batch_size=2, train=True, shuffle=True):\n",
    "    break"
   ]
  },
  {
   "cell_type": "code",
   "execution_count": 88,
   "metadata": {},
   "outputs": [
    {
     "name": "stdout",
     "output_type": "stream",
     "text": [
      "Length of (Train, Test) : (10, 10)\n"
     ]
    }
   ],
   "source": [
    "for x, y, lengths in QQPLoader(max_len=10, size=10, device=device, tokenizer=tokenizer).batch_iter(batch_size=2, train=True, shuffle=True):\n",
    "    break"
   ]
  },
  {
   "cell_type": "code",
   "execution_count": 95,
   "metadata": {
    "scrolled": true
   },
   "outputs": [
    {
     "name": "stdout",
     "output_type": "stream",
     "text": [
      "Length of (Train, Test) : (10, 10)\n"
     ]
    },
    {
     "data": {
      "text/html": [
       "<div>\n",
       "<style scoped>\n",
       "    .dataframe tbody tr th:only-of-type {\n",
       "        vertical-align: middle;\n",
       "    }\n",
       "\n",
       "    .dataframe tbody tr th {\n",
       "        vertical-align: top;\n",
       "    }\n",
       "\n",
       "    .dataframe thead th {\n",
       "        text-align: right;\n",
       "    }\n",
       "</style>\n",
       "<table border=\"1\" class=\"dataframe\">\n",
       "  <thead>\n",
       "    <tr style=\"text-align: right;\">\n",
       "      <th></th>\n",
       "      <th>sentence_source</th>\n",
       "      <th>label</th>\n",
       "      <th>author_judged</th>\n",
       "      <th>sentence</th>\n",
       "      <th>file_length</th>\n",
       "    </tr>\n",
       "  </thead>\n",
       "  <tbody>\n",
       "    <tr>\n",
       "      <th>477</th>\n",
       "      <td>w_80</td>\n",
       "      <td>1</td>\n",
       "      <td>NaN</td>\n",
       "      <td>John left us orders to follow Pete.</td>\n",
       "      <td>7</td>\n",
       "    </tr>\n",
       "    <tr>\n",
       "      <th>220</th>\n",
       "      <td>swb04</td>\n",
       "      <td>1</td>\n",
       "      <td>NaN</td>\n",
       "      <td>We gave ourselves to the cause.</td>\n",
       "      <td>6</td>\n",
       "    </tr>\n",
       "    <tr>\n",
       "      <th>185</th>\n",
       "      <td>s_97</td>\n",
       "      <td>1</td>\n",
       "      <td>NaN</td>\n",
       "      <td>I threw away a book that Sandy thought we had ...</td>\n",
       "      <td>11</td>\n",
       "    </tr>\n",
       "    <tr>\n",
       "      <th>320</th>\n",
       "      <td>swb04</td>\n",
       "      <td>1</td>\n",
       "      <td>NaN</td>\n",
       "      <td>The book surprised many people.</td>\n",
       "      <td>5</td>\n",
       "    </tr>\n",
       "    <tr>\n",
       "      <th>146</th>\n",
       "      <td>j_71</td>\n",
       "      <td>1</td>\n",
       "      <td>NaN</td>\n",
       "      <td>Neither Von Karajan's recording of Beethoven's...</td>\n",
       "      <td>17</td>\n",
       "    </tr>\n",
       "  </tbody>\n",
       "</table>\n",
       "</div>"
      ],
      "text/plain": [
       "    sentence_source  label author_judged  \\\n",
       "477            w_80      1           NaN   \n",
       "220           swb04      1           NaN   \n",
       "185            s_97      1           NaN   \n",
       "320           swb04      1           NaN   \n",
       "146            j_71      1           NaN   \n",
       "\n",
       "                                              sentence  file_length  \n",
       "477                John left us orders to follow Pete.            7  \n",
       "220                    We gave ourselves to the cause.            6  \n",
       "185  I threw away a book that Sandy thought we had ...           11  \n",
       "320                    The book surprised many people.            5  \n",
       "146  Neither Von Karajan's recording of Beethoven's...           17  "
      ]
     },
     "execution_count": 95,
     "metadata": {},
     "output_type": "execute_result"
    }
   ],
   "source": [
    "COLALoader(max_len=10, size=10, device=device, tokenizer=tokenizer).testdf.head()"
   ]
  },
  {
   "cell_type": "code",
   "execution_count": 23,
   "metadata": {},
   "outputs": [
    {
     "name": "stdout",
     "output_type": "stream",
     "text": [
      "Length of (Train, Test) : (103106, 5266)\n"
     ]
    }
   ],
   "source": [
    "for x, y, lengths in QNLILoader(max_len=100, device=device, tokenizer=tokenizer).batch_iter(batch_size=2, train=True, shuffle=True):\n",
    "    break"
   ]
  },
  {
   "cell_type": "code",
   "execution_count": 28,
   "metadata": {},
   "outputs": [
    {
     "name": "stdout",
     "output_type": "stream",
     "text": [
      "Length of (Train, Test) : (2490, 277)\n"
     ]
    }
   ],
   "source": [
    "for x, y, lengths in RTELoader(max_len=100, device=device, tokenizer=tokenizer).batch_iter(batch_size=2, train=True, shuffle=True):\n",
    "    break"
   ]
  },
  {
   "cell_type": "code",
   "execution_count": 78,
   "metadata": {},
   "outputs": [
    {
     "name": "stdout",
     "output_type": "stream",
     "text": [
      "Length of (Train, Test) : (10, 10)\n"
     ]
    }
   ],
   "source": [
    "for x, y, lengths in COLALoader(max_len=10, device=device, size=10, tokenizer=tokenizer).batch_iter(batch_size=2, train=False, shuffle=True):\n",
    "    pass"
   ]
  },
  {
   "cell_type": "code",
   "execution_count": 52,
   "metadata": {},
   "outputs": [],
   "source": [
    "model = BERTClassificationWrapper(device,\n",
    "                                len(tokenizer.vocab),\n",
    "                                hidden=10,\n",
    "                                n_layers=1,\n",
    "                                attn_heads=1,\n",
    "                                dropout=0.1,\n",
    "                                number_classes=2,\n",
    "                                attention_dropout=True)"
   ]
  },
  {
   "cell_type": "code",
   "execution_count": 80,
   "metadata": {},
   "outputs": [
    {
     "data": {
      "text/plain": [
       "tensor([[ 0.3060, -0.2894]], grad_fn=<AddmmBackward>)"
      ]
     },
     "execution_count": 80,
     "metadata": {},
     "output_type": "execute_result"
    }
   ],
   "source": [
    "y_hat = model(x, lengths)\n",
    "y_hat"
   ]
  },
  {
   "cell_type": "code",
   "execution_count": 61,
   "metadata": {},
   "outputs": [],
   "source": [
    "w = []\n",
    "for t in model.bert.transformer_blocks:\n",
    "    w1 = t.input_sublayer.dropout_attention.layer_embedding\n",
    "    w2 = t.output_sublayer.dropout_attention.layer_embedding\n",
    "    w.append([w1, w2])"
   ]
  },
  {
   "cell_type": "code",
   "execution_count": 66,
   "metadata": {},
   "outputs": [],
   "source": [
    "loss_fcn = torch.nn.CrossEntropyLoss()"
   ]
  },
  {
   "cell_type": "code",
   "execution_count": 79,
   "metadata": {},
   "outputs": [
    {
     "data": {
      "text/plain": [
       "tensor(0)"
      ]
     },
     "execution_count": 79,
     "metadata": {},
     "output_type": "execute_result"
    }
   ],
   "source": [
    "y"
   ]
  },
  {
   "cell_type": "code",
   "execution_count": 83,
   "metadata": {},
   "outputs": [],
   "source": [
    "data = Path('../data/QQP')"
   ]
  },
  {
   "cell_type": "code",
   "execution_count": 85,
   "metadata": {},
   "outputs": [],
   "source": [
    "df = pd.read_csv(data/'train.csv')"
   ]
  },
  {
   "cell_type": "code",
   "execution_count": 87,
   "metadata": {},
   "outputs": [
    {
     "data": {
      "text/plain": [
       "array([0., 1., 0., ..., 0., 0., 1.])"
      ]
     },
     "execution_count": 87,
     "metadata": {},
     "output_type": "execute_result"
    }
   ],
   "source": [
    "df['is_duplicate'].values"
   ]
  },
  {
   "cell_type": "markdown",
   "metadata": {},
   "source": [
    "# Model + Data Loading"
   ]
  },
  {
   "cell_type": "code",
   "execution_count": 104,
   "metadata": {},
   "outputs": [],
   "source": [
    "import pprint\n",
    "\n",
    "import pandas as pd\n",
    "import numpy as np\n",
    "import torch.nn as nn\n",
    "import matplotlib.pyplot as plt\n",
    "import matplotlib.ticker as ticker\n",
    "\n",
    "from pathlib import Path\n",
    "\n",
    "from language_structure import *\n",
    "from train import load, load_dataloader\n",
    "from model import *\n",
    "from utils import *\n",
    "\n",
    "device = torch.device(\"cuda\" if torch.cuda.is_available() else \"cpu\")\n",
    "vocab_file = './uncased_L-12_H-768_A-12/vocab.txt'\n",
    "tokenizer = tokenization.FullTokenizer(vocab_file=vocab_file, do_lower_case=True)"
   ]
  },
  {
   "cell_type": "code",
   "execution_count": 122,
   "metadata": {},
   "outputs": [
    {
     "name": "stdout",
     "output_type": "stream",
     "text": [
      "Length of (Train, Test) : (25000, 25000)\n"
     ]
    }
   ],
   "source": [
    "model_path = 'cancel_e=0_itr=3default-model'\n",
    "model1, optim, lang, m1 = load(model_path, cpu=True, load_model=False)\n",
    "dataloader = load_dataloader(m1['args'], tokenizer)"
   ]
  },
  {
   "cell_type": "code",
   "execution_count": 123,
   "metadata": {},
   "outputs": [
    {
     "name": "stdout",
     "output_type": "stream",
     "text": [
      "Total Time: 30.3288 \n",
      "Train Time: 28.5355\n",
      "Max (Validation, Train): (0.00, 1.14)\n"
     ]
    },
    {
     "data": {
      "image/png": "[encoded data removed]",
      "text/plain": [
       "<Figure size 1440x1080 with 1 Axes>"
      ]
     },
     "metadata": {
      "needs_background": "light"
     },
     "output_type": "display_data"
    },
    {
     "data": {
      "image/png": "[encoded data removed]",
      "text/plain": [
       "<Figure size 1440x1080 with 1 Axes>"
      ]
     },
     "metadata": {
      "needs_background": "light"
     },
     "output_type": "display_data"
    },
    {
     "name": "stdout",
     "output_type": "stream",
     "text": [
      "{   '--COLA': False,\n",
      "    '--IMDB': True,\n",
      "    '--QNLI': False,\n",
      "    '--QQP': False,\n",
      "    '--RTE': False,\n",
      "    '--attention-dropout': True,\n",
      "    '--batch-size': '128',\n",
      "    '--clip-grad': '5.0',\n",
      "    '--decrease-dropout': '10',\n",
      "    '--dropout': '0.3',\n",
      "    '--dset-size': '0',\n",
      "    '--embed-size': '256',\n",
      "    '--help': False,\n",
      "    '--hidden-size': '256',\n",
      "    '--load': False,\n",
      "    '--load-from': 'default-model',\n",
      "    '--log-every': '1',\n",
      "    '--lr': '0.001',\n",
      "    '--max-epoch': '30',\n",
      "    '--max-sent-len': '10000',\n",
      "    '--n-heads': '1',\n",
      "    '--n-layers': '3',\n",
      "    '--n-valid': '10000',\n",
      "    '--n-words': '10000',\n",
      "    '--qtest': False,\n",
      "    '--save': True,\n",
      "    '--save-to': 'default-model',\n",
      "    '--seed': '0',\n",
      "    '--start-decrease': '100',\n",
      "    '--test': False,\n",
      "    '--validate-every': '40'}\n"
     ]
    }
   ],
   "source": [
    "plot_metrics(m1, first_n=None)\n",
    "pp = pprint.PrettyPrinter(indent=4)\n",
    "pp.pprint(m1['args'])"
   ]
  },
  {
   "cell_type": "code",
   "execution_count": null,
   "metadata": {},
   "outputs": [],
   "source": []
  }
 ],
 "metadata": {
  "kernelspec": {
   "display_name": "Python 3",
   "language": "python",
   "name": "python3"
  },
  "language_info": {
   "codemirror_mode": {
    "name": "ipython",
    "version": 3
   },
   "file_extension": ".py",
   "mimetype": "text/x-python",
   "name": "python",
   "nbconvert_exporter": "python",
   "pygments_lexer": "ipython3",
   "version": "3.7.3"
  }
 },
 "nbformat": 4,
 "nbformat_minor": 2
}
